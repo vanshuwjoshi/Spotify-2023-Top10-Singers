{
 "cells": [
  {
   "cell_type": "markdown",
   "id": "3cfb0949",
   "metadata": {},
   "source": [
    "## Spotify 2023 Top 10 Singers"
   ]
  },
  {
   "cell_type": "markdown",
   "id": "f696bce8",
   "metadata": {},
   "source": [
    "This dataset contains a comprehensive list of the most famous songs of 2023 as listed on Spotify. The dataset offers a wealth of features beyond what is typically available in similar datasets. It provides insights into each song's attributes, popularity, and presence on various music platforms. The dataset includes information such as track name, artist(s) name, release date, Spotify playlists and charts, streaming statistics, Apple Music presence, Deezer presence, Shazam charts, and various audio features."
   ]
  },
  {
   "cell_type": "code",
   "execution_count": 184,
   "id": "75667f0e",
   "metadata": {},
   "outputs": [],
   "source": [
    "import pandas as pd\n",
    "import numpy as np\n",
    "import matplotlib.pyplot as plt\n",
    "import seaborn as sns"
   ]
  },
  {
   "cell_type": "code",
   "execution_count": 185,
   "id": "fb56e0e3",
   "metadata": {},
   "outputs": [
    {
     "data": {
      "text/html": [
       "<div>\n",
       "<style scoped>\n",
       "    .dataframe tbody tr th:only-of-type {\n",
       "        vertical-align: middle;\n",
       "    }\n",
       "\n",
       "    .dataframe tbody tr th {\n",
       "        vertical-align: top;\n",
       "    }\n",
       "\n",
       "    .dataframe thead th {\n",
       "        text-align: right;\n",
       "    }\n",
       "</style>\n",
       "<table border=\"1\" class=\"dataframe\">\n",
       "  <thead>\n",
       "    <tr style=\"text-align: right;\">\n",
       "      <th></th>\n",
       "      <th>track_name</th>\n",
       "      <th>artist_name</th>\n",
       "      <th>artist_count</th>\n",
       "      <th>released_year</th>\n",
       "      <th>released_month</th>\n",
       "      <th>released_day</th>\n",
       "      <th>in_spotify_playlists</th>\n",
       "      <th>in_spotify_charts</th>\n",
       "      <th>streams</th>\n",
       "      <th>in_apple_playlists</th>\n",
       "      <th>...</th>\n",
       "      <th>bpm</th>\n",
       "      <th>key</th>\n",
       "      <th>mode</th>\n",
       "      <th>danceability</th>\n",
       "      <th>valence</th>\n",
       "      <th>energy</th>\n",
       "      <th>acousticness</th>\n",
       "      <th>instrumentalness</th>\n",
       "      <th>liveness</th>\n",
       "      <th>speechiness</th>\n",
       "    </tr>\n",
       "  </thead>\n",
       "  <tbody>\n",
       "    <tr>\n",
       "      <th>0</th>\n",
       "      <td>Seven (feat. Latto) (Explicit Ver.)</td>\n",
       "      <td>Latto, Jung Kook</td>\n",
       "      <td>2</td>\n",
       "      <td>2023</td>\n",
       "      <td>7</td>\n",
       "      <td>14</td>\n",
       "      <td>553</td>\n",
       "      <td>147</td>\n",
       "      <td>141381703</td>\n",
       "      <td>43</td>\n",
       "      <td>...</td>\n",
       "      <td>125</td>\n",
       "      <td>B</td>\n",
       "      <td>Major</td>\n",
       "      <td>80</td>\n",
       "      <td>89</td>\n",
       "      <td>83</td>\n",
       "      <td>31</td>\n",
       "      <td>0</td>\n",
       "      <td>8</td>\n",
       "      <td>4</td>\n",
       "    </tr>\n",
       "    <tr>\n",
       "      <th>1</th>\n",
       "      <td>LALA</td>\n",
       "      <td>Myke Towers</td>\n",
       "      <td>1</td>\n",
       "      <td>2023</td>\n",
       "      <td>3</td>\n",
       "      <td>23</td>\n",
       "      <td>1474</td>\n",
       "      <td>48</td>\n",
       "      <td>133716286</td>\n",
       "      <td>48</td>\n",
       "      <td>...</td>\n",
       "      <td>92</td>\n",
       "      <td>C#</td>\n",
       "      <td>Major</td>\n",
       "      <td>71</td>\n",
       "      <td>61</td>\n",
       "      <td>74</td>\n",
       "      <td>7</td>\n",
       "      <td>0</td>\n",
       "      <td>10</td>\n",
       "      <td>4</td>\n",
       "    </tr>\n",
       "    <tr>\n",
       "      <th>2</th>\n",
       "      <td>vampire</td>\n",
       "      <td>Olivia Rodrigo</td>\n",
       "      <td>1</td>\n",
       "      <td>2023</td>\n",
       "      <td>6</td>\n",
       "      <td>30</td>\n",
       "      <td>1397</td>\n",
       "      <td>113</td>\n",
       "      <td>140003974</td>\n",
       "      <td>94</td>\n",
       "      <td>...</td>\n",
       "      <td>138</td>\n",
       "      <td>F</td>\n",
       "      <td>Major</td>\n",
       "      <td>51</td>\n",
       "      <td>32</td>\n",
       "      <td>53</td>\n",
       "      <td>17</td>\n",
       "      <td>0</td>\n",
       "      <td>31</td>\n",
       "      <td>6</td>\n",
       "    </tr>\n",
       "    <tr>\n",
       "      <th>3</th>\n",
       "      <td>Cruel Summer</td>\n",
       "      <td>Taylor Swift</td>\n",
       "      <td>1</td>\n",
       "      <td>2019</td>\n",
       "      <td>8</td>\n",
       "      <td>23</td>\n",
       "      <td>7858</td>\n",
       "      <td>100</td>\n",
       "      <td>800840817</td>\n",
       "      <td>116</td>\n",
       "      <td>...</td>\n",
       "      <td>170</td>\n",
       "      <td>A</td>\n",
       "      <td>Major</td>\n",
       "      <td>55</td>\n",
       "      <td>58</td>\n",
       "      <td>72</td>\n",
       "      <td>11</td>\n",
       "      <td>0</td>\n",
       "      <td>11</td>\n",
       "      <td>15</td>\n",
       "    </tr>\n",
       "    <tr>\n",
       "      <th>4</th>\n",
       "      <td>WHERE SHE GOES</td>\n",
       "      <td>Bad Bunny</td>\n",
       "      <td>1</td>\n",
       "      <td>2023</td>\n",
       "      <td>5</td>\n",
       "      <td>18</td>\n",
       "      <td>3133</td>\n",
       "      <td>50</td>\n",
       "      <td>303236322</td>\n",
       "      <td>84</td>\n",
       "      <td>...</td>\n",
       "      <td>144</td>\n",
       "      <td>A</td>\n",
       "      <td>Minor</td>\n",
       "      <td>65</td>\n",
       "      <td>23</td>\n",
       "      <td>80</td>\n",
       "      <td>14</td>\n",
       "      <td>63</td>\n",
       "      <td>11</td>\n",
       "      <td>6</td>\n",
       "    </tr>\n",
       "  </tbody>\n",
       "</table>\n",
       "<p>5 rows × 24 columns</p>\n",
       "</div>"
      ],
      "text/plain": [
       "                            track_name       artist_name  artist_count  \\\n",
       "0  Seven (feat. Latto) (Explicit Ver.)  Latto, Jung Kook             2   \n",
       "1                                 LALA       Myke Towers             1   \n",
       "2                              vampire    Olivia Rodrigo             1   \n",
       "3                         Cruel Summer      Taylor Swift             1   \n",
       "4                       WHERE SHE GOES         Bad Bunny             1   \n",
       "\n",
       "   released_year  released_month  released_day  in_spotify_playlists  \\\n",
       "0           2023               7            14                   553   \n",
       "1           2023               3            23                  1474   \n",
       "2           2023               6            30                  1397   \n",
       "3           2019               8            23                  7858   \n",
       "4           2023               5            18                  3133   \n",
       "\n",
       "   in_spotify_charts    streams  in_apple_playlists  ...  bpm key   mode  \\\n",
       "0                147  141381703                  43  ...  125   B  Major   \n",
       "1                 48  133716286                  48  ...   92  C#  Major   \n",
       "2                113  140003974                  94  ...  138   F  Major   \n",
       "3                100  800840817                 116  ...  170   A  Major   \n",
       "4                 50  303236322                  84  ...  144   A  Minor   \n",
       "\n",
       "  danceability  valence energy acousticness  instrumentalness  liveness  \\\n",
       "0           80       89     83           31                 0         8   \n",
       "1           71       61     74            7                 0        10   \n",
       "2           51       32     53           17                 0        31   \n",
       "3           55       58     72           11                 0        11   \n",
       "4           65       23     80           14                63        11   \n",
       "\n",
       "   speechiness  \n",
       "0            4  \n",
       "1            4  \n",
       "2            6  \n",
       "3           15  \n",
       "4            6  \n",
       "\n",
       "[5 rows x 24 columns]"
      ]
     },
     "execution_count": 185,
     "metadata": {},
     "output_type": "execute_result"
    }
   ],
   "source": [
    "df = pd.read_csv(\"spotify-2023.csv\",encoding=\"Latin-1\")\n",
    "df.head()"
   ]
  },
  {
   "cell_type": "code",
   "execution_count": 186,
   "id": "e0b888e9",
   "metadata": {},
   "outputs": [
    {
     "data": {
      "text/plain": [
       "Index(['track_name', 'artist_name', 'artist_count', 'released_year',\n",
       "       'released_month', 'released_day', 'in_spotify_playlists',\n",
       "       'in_spotify_charts', 'streams', 'in_apple_playlists', 'in_apple_charts',\n",
       "       'in_deezer_playlists', 'in_deezer_charts', 'in_shazam_charts', 'bpm',\n",
       "       'key', 'mode', 'danceability', 'valence', 'energy', 'acousticness',\n",
       "       'instrumentalness', 'liveness', 'speechiness'],\n",
       "      dtype='object')"
      ]
     },
     "execution_count": 186,
     "metadata": {},
     "output_type": "execute_result"
    }
   ],
   "source": [
    "df.columns"
   ]
  },
  {
   "cell_type": "code",
   "execution_count": 187,
   "id": "7d40d930",
   "metadata": {
    "scrolled": false
   },
   "outputs": [
    {
     "name": "stdout",
     "output_type": "stream",
     "text": [
      "<class 'pandas.core.frame.DataFrame'>\n",
      "RangeIndex: 953 entries, 0 to 952\n",
      "Data columns (total 24 columns):\n",
      " #   Column                Non-Null Count  Dtype \n",
      "---  ------                --------------  ----- \n",
      " 0   track_name            953 non-null    object\n",
      " 1   artist_name           953 non-null    object\n",
      " 2   artist_count          953 non-null    int64 \n",
      " 3   released_year         953 non-null    int64 \n",
      " 4   released_month        953 non-null    int64 \n",
      " 5   released_day          953 non-null    int64 \n",
      " 6   in_spotify_playlists  953 non-null    int64 \n",
      " 7   in_spotify_charts     953 non-null    int64 \n",
      " 8   streams               953 non-null    object\n",
      " 9   in_apple_playlists    953 non-null    int64 \n",
      " 10  in_apple_charts       953 non-null    int64 \n",
      " 11  in_deezer_playlists   953 non-null    object\n",
      " 12  in_deezer_charts      953 non-null    int64 \n",
      " 13  in_shazam_charts      903 non-null    object\n",
      " 14  bpm                   953 non-null    int64 \n",
      " 15  key                   858 non-null    object\n",
      " 16  mode                  953 non-null    object\n",
      " 17  danceability          953 non-null    int64 \n",
      " 18  valence               953 non-null    int64 \n",
      " 19  energy                953 non-null    int64 \n",
      " 20  acousticness          953 non-null    int64 \n",
      " 21  instrumentalness      953 non-null    int64 \n",
      " 22  liveness              953 non-null    int64 \n",
      " 23  speechiness           953 non-null    int64 \n",
      "dtypes: int64(17), object(7)\n",
      "memory usage: 178.8+ KB\n"
     ]
    }
   ],
   "source": [
    "df.info()"
   ]
  },
  {
   "cell_type": "markdown",
   "id": "9f3a3abe",
   "metadata": {},
   "source": [
    "There are no null values"
   ]
  },
  {
   "cell_type": "code",
   "execution_count": 188,
   "id": "511028a2",
   "metadata": {},
   "outputs": [
    {
     "data": {
      "text/plain": [
       "943"
      ]
     },
     "execution_count": 188,
     "metadata": {},
     "output_type": "execute_result"
    }
   ],
   "source": [
    "df[\"track_name\"].nunique()"
   ]
  },
  {
   "cell_type": "markdown",
   "id": "d922d90d",
   "metadata": {},
   "source": [
    "Some of the songs are repeated, therefore, I removed those rows"
   ]
  },
  {
   "cell_type": "code",
   "execution_count": 189,
   "id": "d7cc6ba1",
   "metadata": {},
   "outputs": [
    {
     "data": {
      "text/html": [
       "<div>\n",
       "<style scoped>\n",
       "    .dataframe tbody tr th:only-of-type {\n",
       "        vertical-align: middle;\n",
       "    }\n",
       "\n",
       "    .dataframe tbody tr th {\n",
       "        vertical-align: top;\n",
       "    }\n",
       "\n",
       "    .dataframe thead th {\n",
       "        text-align: right;\n",
       "    }\n",
       "</style>\n",
       "<table border=\"1\" class=\"dataframe\">\n",
       "  <thead>\n",
       "    <tr style=\"text-align: right;\">\n",
       "      <th></th>\n",
       "      <th>track_name</th>\n",
       "      <th>artist_name</th>\n",
       "      <th>artist_count</th>\n",
       "      <th>released_year</th>\n",
       "      <th>released_month</th>\n",
       "      <th>released_day</th>\n",
       "      <th>in_spotify_playlists</th>\n",
       "      <th>in_spotify_charts</th>\n",
       "      <th>streams</th>\n",
       "      <th>in_apple_playlists</th>\n",
       "      <th>...</th>\n",
       "      <th>bpm</th>\n",
       "      <th>key</th>\n",
       "      <th>mode</th>\n",
       "      <th>danceability</th>\n",
       "      <th>valence</th>\n",
       "      <th>energy</th>\n",
       "      <th>acousticness</th>\n",
       "      <th>instrumentalness</th>\n",
       "      <th>liveness</th>\n",
       "      <th>speechiness</th>\n",
       "    </tr>\n",
       "  </thead>\n",
       "  <tbody>\n",
       "    <tr>\n",
       "      <th>764</th>\n",
       "      <td>About Damn Time</td>\n",
       "      <td>Lizzo</td>\n",
       "      <td>1</td>\n",
       "      <td>2022</td>\n",
       "      <td>4</td>\n",
       "      <td>14</td>\n",
       "      <td>9021</td>\n",
       "      <td>0</td>\n",
       "      <td>723894473</td>\n",
       "      <td>242</td>\n",
       "      <td>...</td>\n",
       "      <td>109</td>\n",
       "      <td>A#</td>\n",
       "      <td>Minor</td>\n",
       "      <td>84</td>\n",
       "      <td>72</td>\n",
       "      <td>74</td>\n",
       "      <td>10</td>\n",
       "      <td>0</td>\n",
       "      <td>34</td>\n",
       "      <td>7</td>\n",
       "    </tr>\n",
       "    <tr>\n",
       "      <th>372</th>\n",
       "      <td>About Damn Time</td>\n",
       "      <td>Lizzo</td>\n",
       "      <td>1</td>\n",
       "      <td>2022</td>\n",
       "      <td>7</td>\n",
       "      <td>15</td>\n",
       "      <td>2332</td>\n",
       "      <td>2</td>\n",
       "      <td>723894473</td>\n",
       "      <td>0</td>\n",
       "      <td>...</td>\n",
       "      <td>109</td>\n",
       "      <td>A#</td>\n",
       "      <td>Minor</td>\n",
       "      <td>84</td>\n",
       "      <td>72</td>\n",
       "      <td>74</td>\n",
       "      <td>10</td>\n",
       "      <td>0</td>\n",
       "      <td>34</td>\n",
       "      <td>7</td>\n",
       "    </tr>\n",
       "    <tr>\n",
       "      <th>13</th>\n",
       "      <td>Daylight</td>\n",
       "      <td>David Kushner</td>\n",
       "      <td>1</td>\n",
       "      <td>2023</td>\n",
       "      <td>4</td>\n",
       "      <td>14</td>\n",
       "      <td>3528</td>\n",
       "      <td>98</td>\n",
       "      <td>387570742</td>\n",
       "      <td>80</td>\n",
       "      <td>...</td>\n",
       "      <td>130</td>\n",
       "      <td>D</td>\n",
       "      <td>Minor</td>\n",
       "      <td>51</td>\n",
       "      <td>32</td>\n",
       "      <td>43</td>\n",
       "      <td>83</td>\n",
       "      <td>0</td>\n",
       "      <td>9</td>\n",
       "      <td>3</td>\n",
       "    </tr>\n",
       "    <tr>\n",
       "      <th>831</th>\n",
       "      <td>Daylight</td>\n",
       "      <td>Harry Styles</td>\n",
       "      <td>1</td>\n",
       "      <td>2022</td>\n",
       "      <td>5</td>\n",
       "      <td>20</td>\n",
       "      <td>2775</td>\n",
       "      <td>0</td>\n",
       "      <td>290833204</td>\n",
       "      <td>21</td>\n",
       "      <td>...</td>\n",
       "      <td>146</td>\n",
       "      <td>NaN</td>\n",
       "      <td>Major</td>\n",
       "      <td>69</td>\n",
       "      <td>63</td>\n",
       "      <td>45</td>\n",
       "      <td>48</td>\n",
       "      <td>0</td>\n",
       "      <td>18</td>\n",
       "      <td>4</td>\n",
       "    </tr>\n",
       "    <tr>\n",
       "      <th>47</th>\n",
       "      <td>Die For You</td>\n",
       "      <td>The Weeknd</td>\n",
       "      <td>1</td>\n",
       "      <td>2016</td>\n",
       "      <td>11</td>\n",
       "      <td>24</td>\n",
       "      <td>2483</td>\n",
       "      <td>59</td>\n",
       "      <td>1647990401</td>\n",
       "      <td>68</td>\n",
       "      <td>...</td>\n",
       "      <td>134</td>\n",
       "      <td>C#</td>\n",
       "      <td>Minor</td>\n",
       "      <td>59</td>\n",
       "      <td>51</td>\n",
       "      <td>52</td>\n",
       "      <td>9</td>\n",
       "      <td>0</td>\n",
       "      <td>15</td>\n",
       "      <td>7</td>\n",
       "    </tr>\n",
       "    <tr>\n",
       "      <th>417</th>\n",
       "      <td>Die For You</td>\n",
       "      <td>Joji</td>\n",
       "      <td>1</td>\n",
       "      <td>2022</td>\n",
       "      <td>11</td>\n",
       "      <td>4</td>\n",
       "      <td>1703</td>\n",
       "      <td>0</td>\n",
       "      <td>246390068</td>\n",
       "      <td>38</td>\n",
       "      <td>...</td>\n",
       "      <td>148</td>\n",
       "      <td>G#</td>\n",
       "      <td>Major</td>\n",
       "      <td>47</td>\n",
       "      <td>15</td>\n",
       "      <td>52</td>\n",
       "      <td>38</td>\n",
       "      <td>13</td>\n",
       "      <td>29</td>\n",
       "      <td>5</td>\n",
       "    </tr>\n",
       "    <tr>\n",
       "      <th>12</th>\n",
       "      <td>Flowers</td>\n",
       "      <td>Miley Cyrus</td>\n",
       "      <td>1</td>\n",
       "      <td>2023</td>\n",
       "      <td>1</td>\n",
       "      <td>12</td>\n",
       "      <td>12211</td>\n",
       "      <td>115</td>\n",
       "      <td>1316855716</td>\n",
       "      <td>300</td>\n",
       "      <td>...</td>\n",
       "      <td>118</td>\n",
       "      <td>NaN</td>\n",
       "      <td>Major</td>\n",
       "      <td>71</td>\n",
       "      <td>65</td>\n",
       "      <td>68</td>\n",
       "      <td>6</td>\n",
       "      <td>0</td>\n",
       "      <td>3</td>\n",
       "      <td>7</td>\n",
       "    </tr>\n",
       "    <tr>\n",
       "      <th>825</th>\n",
       "      <td>Flowers</td>\n",
       "      <td>Lauren Spencer Smith</td>\n",
       "      <td>1</td>\n",
       "      <td>2021</td>\n",
       "      <td>8</td>\n",
       "      <td>9</td>\n",
       "      <td>801</td>\n",
       "      <td>0</td>\n",
       "      <td>184826429</td>\n",
       "      <td>42</td>\n",
       "      <td>...</td>\n",
       "      <td>138</td>\n",
       "      <td>D#</td>\n",
       "      <td>Major</td>\n",
       "      <td>70</td>\n",
       "      <td>31</td>\n",
       "      <td>44</td>\n",
       "      <td>84</td>\n",
       "      <td>0</td>\n",
       "      <td>9</td>\n",
       "      <td>39</td>\n",
       "    </tr>\n",
       "    <tr>\n",
       "      <th>466</th>\n",
       "      <td>Let It Snow! Let It Snow! Let It Snow!</td>\n",
       "      <td>Frank Sinatra, B. Swanson Quartet</td>\n",
       "      <td>2</td>\n",
       "      <td>1950</td>\n",
       "      <td>1</td>\n",
       "      <td>1</td>\n",
       "      <td>10585</td>\n",
       "      <td>0</td>\n",
       "      <td>473248298</td>\n",
       "      <td>126</td>\n",
       "      <td>...</td>\n",
       "      <td>143</td>\n",
       "      <td>D</td>\n",
       "      <td>Major</td>\n",
       "      <td>60</td>\n",
       "      <td>86</td>\n",
       "      <td>32</td>\n",
       "      <td>88</td>\n",
       "      <td>0</td>\n",
       "      <td>34</td>\n",
       "      <td>6</td>\n",
       "    </tr>\n",
       "    <tr>\n",
       "      <th>448</th>\n",
       "      <td>Let It Snow! Let It Snow! Let It Snow!</td>\n",
       "      <td>Dean Martin</td>\n",
       "      <td>1</td>\n",
       "      <td>1959</td>\n",
       "      <td>11</td>\n",
       "      <td>16</td>\n",
       "      <td>6512</td>\n",
       "      <td>0</td>\n",
       "      <td>446390129</td>\n",
       "      <td>88</td>\n",
       "      <td>...</td>\n",
       "      <td>134</td>\n",
       "      <td>C#</td>\n",
       "      <td>Major</td>\n",
       "      <td>45</td>\n",
       "      <td>72</td>\n",
       "      <td>24</td>\n",
       "      <td>91</td>\n",
       "      <td>0</td>\n",
       "      <td>18</td>\n",
       "      <td>4</td>\n",
       "    </tr>\n",
       "    <tr>\n",
       "      <th>335</th>\n",
       "      <td>Miss You</td>\n",
       "      <td>Robin Schulz, Oliver Tree</td>\n",
       "      <td>2</td>\n",
       "      <td>2022</td>\n",
       "      <td>8</td>\n",
       "      <td>5</td>\n",
       "      <td>5730</td>\n",
       "      <td>10</td>\n",
       "      <td>497225336</td>\n",
       "      <td>108</td>\n",
       "      <td>...</td>\n",
       "      <td>145</td>\n",
       "      <td>F#</td>\n",
       "      <td>Minor</td>\n",
       "      <td>59</td>\n",
       "      <td>20</td>\n",
       "      <td>74</td>\n",
       "      <td>1</td>\n",
       "      <td>0</td>\n",
       "      <td>15</td>\n",
       "      <td>5</td>\n",
       "    </tr>\n",
       "    <tr>\n",
       "      <th>922</th>\n",
       "      <td>Miss You</td>\n",
       "      <td>Southstar</td>\n",
       "      <td>1</td>\n",
       "      <td>1982</td>\n",
       "      <td>5</td>\n",
       "      <td>16</td>\n",
       "      <td>2020</td>\n",
       "      <td>0</td>\n",
       "      <td>154356956</td>\n",
       "      <td>77</td>\n",
       "      <td>...</td>\n",
       "      <td>145</td>\n",
       "      <td>A</td>\n",
       "      <td>Major</td>\n",
       "      <td>66</td>\n",
       "      <td>24</td>\n",
       "      <td>58</td>\n",
       "      <td>17</td>\n",
       "      <td>0</td>\n",
       "      <td>19</td>\n",
       "      <td>5</td>\n",
       "    </tr>\n",
       "    <tr>\n",
       "      <th>331</th>\n",
       "      <td>Numb</td>\n",
       "      <td>Linkin Park</td>\n",
       "      <td>1</td>\n",
       "      <td>2003</td>\n",
       "      <td>3</td>\n",
       "      <td>24</td>\n",
       "      <td>20111</td>\n",
       "      <td>5</td>\n",
       "      <td>1361425037</td>\n",
       "      <td>39</td>\n",
       "      <td>...</td>\n",
       "      <td>110</td>\n",
       "      <td>A</td>\n",
       "      <td>Major</td>\n",
       "      <td>50</td>\n",
       "      <td>24</td>\n",
       "      <td>86</td>\n",
       "      <td>0</td>\n",
       "      <td>0</td>\n",
       "      <td>64</td>\n",
       "      <td>4</td>\n",
       "    </tr>\n",
       "    <tr>\n",
       "      <th>852</th>\n",
       "      <td>Numb</td>\n",
       "      <td>Marshmello, Khalid</td>\n",
       "      <td>2</td>\n",
       "      <td>2022</td>\n",
       "      <td>6</td>\n",
       "      <td>10</td>\n",
       "      <td>3879</td>\n",
       "      <td>2</td>\n",
       "      <td>295307001</td>\n",
       "      <td>107</td>\n",
       "      <td>...</td>\n",
       "      <td>120</td>\n",
       "      <td>NaN</td>\n",
       "      <td>Minor</td>\n",
       "      <td>91</td>\n",
       "      <td>63</td>\n",
       "      <td>77</td>\n",
       "      <td>12</td>\n",
       "      <td>1</td>\n",
       "      <td>10</td>\n",
       "      <td>5</td>\n",
       "    </tr>\n",
       "    <tr>\n",
       "      <th>178</th>\n",
       "      <td>SNAP</td>\n",
       "      <td>Rosa Linn</td>\n",
       "      <td>1</td>\n",
       "      <td>2022</td>\n",
       "      <td>3</td>\n",
       "      <td>19</td>\n",
       "      <td>3202</td>\n",
       "      <td>18</td>\n",
       "      <td>726307468</td>\n",
       "      <td>148</td>\n",
       "      <td>...</td>\n",
       "      <td>170</td>\n",
       "      <td>NaN</td>\n",
       "      <td>Major</td>\n",
       "      <td>56</td>\n",
       "      <td>53</td>\n",
       "      <td>64</td>\n",
       "      <td>11</td>\n",
       "      <td>0</td>\n",
       "      <td>45</td>\n",
       "      <td>6</td>\n",
       "    </tr>\n",
       "    <tr>\n",
       "      <th>873</th>\n",
       "      <td>SNAP</td>\n",
       "      <td>Rosa Linn</td>\n",
       "      <td>1</td>\n",
       "      <td>2022</td>\n",
       "      <td>3</td>\n",
       "      <td>19</td>\n",
       "      <td>1818</td>\n",
       "      <td>0</td>\n",
       "      <td>711366595</td>\n",
       "      <td>3</td>\n",
       "      <td>...</td>\n",
       "      <td>170</td>\n",
       "      <td>NaN</td>\n",
       "      <td>Major</td>\n",
       "      <td>56</td>\n",
       "      <td>52</td>\n",
       "      <td>64</td>\n",
       "      <td>11</td>\n",
       "      <td>0</td>\n",
       "      <td>45</td>\n",
       "      <td>7</td>\n",
       "    </tr>\n",
       "    <tr>\n",
       "      <th>345</th>\n",
       "      <td>SPIT IN MY FACE!</td>\n",
       "      <td>ThxSoMch</td>\n",
       "      <td>1</td>\n",
       "      <td>2022</td>\n",
       "      <td>10</td>\n",
       "      <td>31</td>\n",
       "      <td>629</td>\n",
       "      <td>14</td>\n",
       "      <td>303216294</td>\n",
       "      <td>32</td>\n",
       "      <td>...</td>\n",
       "      <td>94</td>\n",
       "      <td>G#</td>\n",
       "      <td>Major</td>\n",
       "      <td>73</td>\n",
       "      <td>65</td>\n",
       "      <td>79</td>\n",
       "      <td>5</td>\n",
       "      <td>2</td>\n",
       "      <td>11</td>\n",
       "      <td>6</td>\n",
       "    </tr>\n",
       "    <tr>\n",
       "      <th>482</th>\n",
       "      <td>SPIT IN MY FACE!</td>\n",
       "      <td>ThxSoMch</td>\n",
       "      <td>1</td>\n",
       "      <td>2022</td>\n",
       "      <td>10</td>\n",
       "      <td>31</td>\n",
       "      <td>573</td>\n",
       "      <td>0</td>\n",
       "      <td>301869854</td>\n",
       "      <td>1</td>\n",
       "      <td>...</td>\n",
       "      <td>166</td>\n",
       "      <td>C#</td>\n",
       "      <td>Major</td>\n",
       "      <td>70</td>\n",
       "      <td>57</td>\n",
       "      <td>57</td>\n",
       "      <td>9</td>\n",
       "      <td>20</td>\n",
       "      <td>11</td>\n",
       "      <td>7</td>\n",
       "    </tr>\n",
       "    <tr>\n",
       "      <th>512</th>\n",
       "      <td>Take My Breath</td>\n",
       "      <td>The Weeknd</td>\n",
       "      <td>1</td>\n",
       "      <td>2021</td>\n",
       "      <td>8</td>\n",
       "      <td>6</td>\n",
       "      <td>2597</td>\n",
       "      <td>0</td>\n",
       "      <td>130655803</td>\n",
       "      <td>17</td>\n",
       "      <td>...</td>\n",
       "      <td>121</td>\n",
       "      <td>A#</td>\n",
       "      <td>Minor</td>\n",
       "      <td>70</td>\n",
       "      <td>35</td>\n",
       "      <td>77</td>\n",
       "      <td>1</td>\n",
       "      <td>0</td>\n",
       "      <td>26</td>\n",
       "      <td>4</td>\n",
       "    </tr>\n",
       "    <tr>\n",
       "      <th>616</th>\n",
       "      <td>Take My Breath</td>\n",
       "      <td>The Weeknd</td>\n",
       "      <td>1</td>\n",
       "      <td>2021</td>\n",
       "      <td>8</td>\n",
       "      <td>6</td>\n",
       "      <td>6392</td>\n",
       "      <td>0</td>\n",
       "      <td>432702334</td>\n",
       "      <td>174</td>\n",
       "      <td>...</td>\n",
       "      <td>121</td>\n",
       "      <td>G#</td>\n",
       "      <td>Major</td>\n",
       "      <td>75</td>\n",
       "      <td>53</td>\n",
       "      <td>74</td>\n",
       "      <td>2</td>\n",
       "      <td>0</td>\n",
       "      <td>11</td>\n",
       "      <td>5</td>\n",
       "    </tr>\n",
       "  </tbody>\n",
       "</table>\n",
       "<p>20 rows × 24 columns</p>\n",
       "</div>"
      ],
      "text/plain": [
       "                                 track_name  \\\n",
       "764                         About Damn Time   \n",
       "372                         About Damn Time   \n",
       "13                                 Daylight   \n",
       "831                                Daylight   \n",
       "47                              Die For You   \n",
       "417                             Die For You   \n",
       "12                                  Flowers   \n",
       "825                                 Flowers   \n",
       "466  Let It Snow! Let It Snow! Let It Snow!   \n",
       "448  Let It Snow! Let It Snow! Let It Snow!   \n",
       "335                                Miss You   \n",
       "922                                Miss You   \n",
       "331                                    Numb   \n",
       "852                                    Numb   \n",
       "178                                    SNAP   \n",
       "873                                    SNAP   \n",
       "345                        SPIT IN MY FACE!   \n",
       "482                        SPIT IN MY FACE!   \n",
       "512                          Take My Breath   \n",
       "616                          Take My Breath   \n",
       "\n",
       "                           artist_name  artist_count  released_year  \\\n",
       "764                              Lizzo             1           2022   \n",
       "372                              Lizzo             1           2022   \n",
       "13                       David Kushner             1           2023   \n",
       "831                       Harry Styles             1           2022   \n",
       "47                          The Weeknd             1           2016   \n",
       "417                               Joji             1           2022   \n",
       "12                         Miley Cyrus             1           2023   \n",
       "825               Lauren Spencer Smith             1           2021   \n",
       "466  Frank Sinatra, B. Swanson Quartet             2           1950   \n",
       "448                        Dean Martin             1           1959   \n",
       "335          Robin Schulz, Oliver Tree             2           2022   \n",
       "922                          Southstar             1           1982   \n",
       "331                        Linkin Park             1           2003   \n",
       "852                 Marshmello, Khalid             2           2022   \n",
       "178                          Rosa Linn             1           2022   \n",
       "873                          Rosa Linn             1           2022   \n",
       "345                           ThxSoMch             1           2022   \n",
       "482                           ThxSoMch             1           2022   \n",
       "512                         The Weeknd             1           2021   \n",
       "616                         The Weeknd             1           2021   \n",
       "\n",
       "     released_month  released_day  in_spotify_playlists  in_spotify_charts  \\\n",
       "764               4            14                  9021                  0   \n",
       "372               7            15                  2332                  2   \n",
       "13                4            14                  3528                 98   \n",
       "831               5            20                  2775                  0   \n",
       "47               11            24                  2483                 59   \n",
       "417              11             4                  1703                  0   \n",
       "12                1            12                 12211                115   \n",
       "825               8             9                   801                  0   \n",
       "466               1             1                 10585                  0   \n",
       "448              11            16                  6512                  0   \n",
       "335               8             5                  5730                 10   \n",
       "922               5            16                  2020                  0   \n",
       "331               3            24                 20111                  5   \n",
       "852               6            10                  3879                  2   \n",
       "178               3            19                  3202                 18   \n",
       "873               3            19                  1818                  0   \n",
       "345              10            31                   629                 14   \n",
       "482              10            31                   573                  0   \n",
       "512               8             6                  2597                  0   \n",
       "616               8             6                  6392                  0   \n",
       "\n",
       "        streams  in_apple_playlists  ...  bpm  key   mode danceability  \\\n",
       "764   723894473                 242  ...  109   A#  Minor           84   \n",
       "372   723894473                   0  ...  109   A#  Minor           84   \n",
       "13    387570742                  80  ...  130    D  Minor           51   \n",
       "831   290833204                  21  ...  146  NaN  Major           69   \n",
       "47   1647990401                  68  ...  134   C#  Minor           59   \n",
       "417   246390068                  38  ...  148   G#  Major           47   \n",
       "12   1316855716                 300  ...  118  NaN  Major           71   \n",
       "825   184826429                  42  ...  138   D#  Major           70   \n",
       "466   473248298                 126  ...  143    D  Major           60   \n",
       "448   446390129                  88  ...  134   C#  Major           45   \n",
       "335   497225336                 108  ...  145   F#  Minor           59   \n",
       "922   154356956                  77  ...  145    A  Major           66   \n",
       "331  1361425037                  39  ...  110    A  Major           50   \n",
       "852   295307001                 107  ...  120  NaN  Minor           91   \n",
       "178   726307468                 148  ...  170  NaN  Major           56   \n",
       "873   711366595                   3  ...  170  NaN  Major           56   \n",
       "345   303216294                  32  ...   94   G#  Major           73   \n",
       "482   301869854                   1  ...  166   C#  Major           70   \n",
       "512   130655803                  17  ...  121   A#  Minor           70   \n",
       "616   432702334                 174  ...  121   G#  Major           75   \n",
       "\n",
       "     valence energy acousticness  instrumentalness  liveness  speechiness  \n",
       "764       72     74           10                 0        34            7  \n",
       "372       72     74           10                 0        34            7  \n",
       "13        32     43           83                 0         9            3  \n",
       "831       63     45           48                 0        18            4  \n",
       "47        51     52            9                 0        15            7  \n",
       "417       15     52           38                13        29            5  \n",
       "12        65     68            6                 0         3            7  \n",
       "825       31     44           84                 0         9           39  \n",
       "466       86     32           88                 0        34            6  \n",
       "448       72     24           91                 0        18            4  \n",
       "335       20     74            1                 0        15            5  \n",
       "922       24     58           17                 0        19            5  \n",
       "331       24     86            0                 0        64            4  \n",
       "852       63     77           12                 1        10            5  \n",
       "178       53     64           11                 0        45            6  \n",
       "873       52     64           11                 0        45            7  \n",
       "345       65     79            5                 2        11            6  \n",
       "482       57     57            9                20        11            7  \n",
       "512       35     77            1                 0        26            4  \n",
       "616       53     74            2                 0        11            5  \n",
       "\n",
       "[20 rows x 24 columns]"
      ]
     },
     "execution_count": 189,
     "metadata": {},
     "output_type": "execute_result"
    }
   ],
   "source": [
    "df[df[\"track_name\"].duplicated(keep=False)].sort_values(\"track_name\")"
   ]
  },
  {
   "cell_type": "markdown",
   "id": "6969ccb4",
   "metadata": {},
   "source": [
    "Remove the 873, 482, 616 row number"
   ]
  },
  {
   "cell_type": "code",
   "execution_count": 190,
   "id": "d95bfbfd",
   "metadata": {},
   "outputs": [
    {
     "data": {
      "text/html": [
       "<div>\n",
       "<style scoped>\n",
       "    .dataframe tbody tr th:only-of-type {\n",
       "        vertical-align: middle;\n",
       "    }\n",
       "\n",
       "    .dataframe tbody tr th {\n",
       "        vertical-align: top;\n",
       "    }\n",
       "\n",
       "    .dataframe thead th {\n",
       "        text-align: right;\n",
       "    }\n",
       "</style>\n",
       "<table border=\"1\" class=\"dataframe\">\n",
       "  <thead>\n",
       "    <tr style=\"text-align: right;\">\n",
       "      <th></th>\n",
       "      <th>track_name</th>\n",
       "      <th>artist_name</th>\n",
       "      <th>artist_count</th>\n",
       "      <th>released_year</th>\n",
       "      <th>released_month</th>\n",
       "      <th>released_day</th>\n",
       "      <th>in_spotify_playlists</th>\n",
       "      <th>in_spotify_charts</th>\n",
       "      <th>streams</th>\n",
       "      <th>in_apple_playlists</th>\n",
       "      <th>...</th>\n",
       "      <th>bpm</th>\n",
       "      <th>key</th>\n",
       "      <th>mode</th>\n",
       "      <th>danceability</th>\n",
       "      <th>valence</th>\n",
       "      <th>energy</th>\n",
       "      <th>acousticness</th>\n",
       "      <th>instrumentalness</th>\n",
       "      <th>liveness</th>\n",
       "      <th>speechiness</th>\n",
       "    </tr>\n",
       "  </thead>\n",
       "  <tbody>\n",
       "    <tr>\n",
       "      <th>372</th>\n",
       "      <td>About Damn Time</td>\n",
       "      <td>Lizzo</td>\n",
       "      <td>1</td>\n",
       "      <td>2022</td>\n",
       "      <td>7</td>\n",
       "      <td>15</td>\n",
       "      <td>2332</td>\n",
       "      <td>2</td>\n",
       "      <td>723894473</td>\n",
       "      <td>0</td>\n",
       "      <td>...</td>\n",
       "      <td>109</td>\n",
       "      <td>A#</td>\n",
       "      <td>Minor</td>\n",
       "      <td>84</td>\n",
       "      <td>72</td>\n",
       "      <td>74</td>\n",
       "      <td>10</td>\n",
       "      <td>0</td>\n",
       "      <td>34</td>\n",
       "      <td>7</td>\n",
       "    </tr>\n",
       "    <tr>\n",
       "      <th>764</th>\n",
       "      <td>About Damn Time</td>\n",
       "      <td>Lizzo</td>\n",
       "      <td>1</td>\n",
       "      <td>2022</td>\n",
       "      <td>4</td>\n",
       "      <td>14</td>\n",
       "      <td>9021</td>\n",
       "      <td>0</td>\n",
       "      <td>723894473</td>\n",
       "      <td>242</td>\n",
       "      <td>...</td>\n",
       "      <td>109</td>\n",
       "      <td>A#</td>\n",
       "      <td>Minor</td>\n",
       "      <td>84</td>\n",
       "      <td>72</td>\n",
       "      <td>74</td>\n",
       "      <td>10</td>\n",
       "      <td>0</td>\n",
       "      <td>34</td>\n",
       "      <td>7</td>\n",
       "    </tr>\n",
       "    <tr>\n",
       "      <th>13</th>\n",
       "      <td>Daylight</td>\n",
       "      <td>David Kushner</td>\n",
       "      <td>1</td>\n",
       "      <td>2023</td>\n",
       "      <td>4</td>\n",
       "      <td>14</td>\n",
       "      <td>3528</td>\n",
       "      <td>98</td>\n",
       "      <td>387570742</td>\n",
       "      <td>80</td>\n",
       "      <td>...</td>\n",
       "      <td>130</td>\n",
       "      <td>D</td>\n",
       "      <td>Minor</td>\n",
       "      <td>51</td>\n",
       "      <td>32</td>\n",
       "      <td>43</td>\n",
       "      <td>83</td>\n",
       "      <td>0</td>\n",
       "      <td>9</td>\n",
       "      <td>3</td>\n",
       "    </tr>\n",
       "    <tr>\n",
       "      <th>831</th>\n",
       "      <td>Daylight</td>\n",
       "      <td>Harry Styles</td>\n",
       "      <td>1</td>\n",
       "      <td>2022</td>\n",
       "      <td>5</td>\n",
       "      <td>20</td>\n",
       "      <td>2775</td>\n",
       "      <td>0</td>\n",
       "      <td>290833204</td>\n",
       "      <td>21</td>\n",
       "      <td>...</td>\n",
       "      <td>146</td>\n",
       "      <td>NaN</td>\n",
       "      <td>Major</td>\n",
       "      <td>69</td>\n",
       "      <td>63</td>\n",
       "      <td>45</td>\n",
       "      <td>48</td>\n",
       "      <td>0</td>\n",
       "      <td>18</td>\n",
       "      <td>4</td>\n",
       "    </tr>\n",
       "    <tr>\n",
       "      <th>47</th>\n",
       "      <td>Die For You</td>\n",
       "      <td>The Weeknd</td>\n",
       "      <td>1</td>\n",
       "      <td>2016</td>\n",
       "      <td>11</td>\n",
       "      <td>24</td>\n",
       "      <td>2483</td>\n",
       "      <td>59</td>\n",
       "      <td>1647990401</td>\n",
       "      <td>68</td>\n",
       "      <td>...</td>\n",
       "      <td>134</td>\n",
       "      <td>C#</td>\n",
       "      <td>Minor</td>\n",
       "      <td>59</td>\n",
       "      <td>51</td>\n",
       "      <td>52</td>\n",
       "      <td>9</td>\n",
       "      <td>0</td>\n",
       "      <td>15</td>\n",
       "      <td>7</td>\n",
       "    </tr>\n",
       "    <tr>\n",
       "      <th>417</th>\n",
       "      <td>Die For You</td>\n",
       "      <td>Joji</td>\n",
       "      <td>1</td>\n",
       "      <td>2022</td>\n",
       "      <td>11</td>\n",
       "      <td>4</td>\n",
       "      <td>1703</td>\n",
       "      <td>0</td>\n",
       "      <td>246390068</td>\n",
       "      <td>38</td>\n",
       "      <td>...</td>\n",
       "      <td>148</td>\n",
       "      <td>G#</td>\n",
       "      <td>Major</td>\n",
       "      <td>47</td>\n",
       "      <td>15</td>\n",
       "      <td>52</td>\n",
       "      <td>38</td>\n",
       "      <td>13</td>\n",
       "      <td>29</td>\n",
       "      <td>5</td>\n",
       "    </tr>\n",
       "    <tr>\n",
       "      <th>12</th>\n",
       "      <td>Flowers</td>\n",
       "      <td>Miley Cyrus</td>\n",
       "      <td>1</td>\n",
       "      <td>2023</td>\n",
       "      <td>1</td>\n",
       "      <td>12</td>\n",
       "      <td>12211</td>\n",
       "      <td>115</td>\n",
       "      <td>1316855716</td>\n",
       "      <td>300</td>\n",
       "      <td>...</td>\n",
       "      <td>118</td>\n",
       "      <td>NaN</td>\n",
       "      <td>Major</td>\n",
       "      <td>71</td>\n",
       "      <td>65</td>\n",
       "      <td>68</td>\n",
       "      <td>6</td>\n",
       "      <td>0</td>\n",
       "      <td>3</td>\n",
       "      <td>7</td>\n",
       "    </tr>\n",
       "    <tr>\n",
       "      <th>825</th>\n",
       "      <td>Flowers</td>\n",
       "      <td>Lauren Spencer Smith</td>\n",
       "      <td>1</td>\n",
       "      <td>2021</td>\n",
       "      <td>8</td>\n",
       "      <td>9</td>\n",
       "      <td>801</td>\n",
       "      <td>0</td>\n",
       "      <td>184826429</td>\n",
       "      <td>42</td>\n",
       "      <td>...</td>\n",
       "      <td>138</td>\n",
       "      <td>D#</td>\n",
       "      <td>Major</td>\n",
       "      <td>70</td>\n",
       "      <td>31</td>\n",
       "      <td>44</td>\n",
       "      <td>84</td>\n",
       "      <td>0</td>\n",
       "      <td>9</td>\n",
       "      <td>39</td>\n",
       "    </tr>\n",
       "    <tr>\n",
       "      <th>448</th>\n",
       "      <td>Let It Snow! Let It Snow! Let It Snow!</td>\n",
       "      <td>Dean Martin</td>\n",
       "      <td>1</td>\n",
       "      <td>1959</td>\n",
       "      <td>11</td>\n",
       "      <td>16</td>\n",
       "      <td>6512</td>\n",
       "      <td>0</td>\n",
       "      <td>446390129</td>\n",
       "      <td>88</td>\n",
       "      <td>...</td>\n",
       "      <td>134</td>\n",
       "      <td>C#</td>\n",
       "      <td>Major</td>\n",
       "      <td>45</td>\n",
       "      <td>72</td>\n",
       "      <td>24</td>\n",
       "      <td>91</td>\n",
       "      <td>0</td>\n",
       "      <td>18</td>\n",
       "      <td>4</td>\n",
       "    </tr>\n",
       "    <tr>\n",
       "      <th>466</th>\n",
       "      <td>Let It Snow! Let It Snow! Let It Snow!</td>\n",
       "      <td>Frank Sinatra, B. Swanson Quartet</td>\n",
       "      <td>2</td>\n",
       "      <td>1950</td>\n",
       "      <td>1</td>\n",
       "      <td>1</td>\n",
       "      <td>10585</td>\n",
       "      <td>0</td>\n",
       "      <td>473248298</td>\n",
       "      <td>126</td>\n",
       "      <td>...</td>\n",
       "      <td>143</td>\n",
       "      <td>D</td>\n",
       "      <td>Major</td>\n",
       "      <td>60</td>\n",
       "      <td>86</td>\n",
       "      <td>32</td>\n",
       "      <td>88</td>\n",
       "      <td>0</td>\n",
       "      <td>34</td>\n",
       "      <td>6</td>\n",
       "    </tr>\n",
       "    <tr>\n",
       "      <th>335</th>\n",
       "      <td>Miss You</td>\n",
       "      <td>Robin Schulz, Oliver Tree</td>\n",
       "      <td>2</td>\n",
       "      <td>2022</td>\n",
       "      <td>8</td>\n",
       "      <td>5</td>\n",
       "      <td>5730</td>\n",
       "      <td>10</td>\n",
       "      <td>497225336</td>\n",
       "      <td>108</td>\n",
       "      <td>...</td>\n",
       "      <td>145</td>\n",
       "      <td>F#</td>\n",
       "      <td>Minor</td>\n",
       "      <td>59</td>\n",
       "      <td>20</td>\n",
       "      <td>74</td>\n",
       "      <td>1</td>\n",
       "      <td>0</td>\n",
       "      <td>15</td>\n",
       "      <td>5</td>\n",
       "    </tr>\n",
       "    <tr>\n",
       "      <th>922</th>\n",
       "      <td>Miss You</td>\n",
       "      <td>Southstar</td>\n",
       "      <td>1</td>\n",
       "      <td>1982</td>\n",
       "      <td>5</td>\n",
       "      <td>16</td>\n",
       "      <td>2020</td>\n",
       "      <td>0</td>\n",
       "      <td>154356956</td>\n",
       "      <td>77</td>\n",
       "      <td>...</td>\n",
       "      <td>145</td>\n",
       "      <td>A</td>\n",
       "      <td>Major</td>\n",
       "      <td>66</td>\n",
       "      <td>24</td>\n",
       "      <td>58</td>\n",
       "      <td>17</td>\n",
       "      <td>0</td>\n",
       "      <td>19</td>\n",
       "      <td>5</td>\n",
       "    </tr>\n",
       "    <tr>\n",
       "      <th>331</th>\n",
       "      <td>Numb</td>\n",
       "      <td>Linkin Park</td>\n",
       "      <td>1</td>\n",
       "      <td>2003</td>\n",
       "      <td>3</td>\n",
       "      <td>24</td>\n",
       "      <td>20111</td>\n",
       "      <td>5</td>\n",
       "      <td>1361425037</td>\n",
       "      <td>39</td>\n",
       "      <td>...</td>\n",
       "      <td>110</td>\n",
       "      <td>A</td>\n",
       "      <td>Major</td>\n",
       "      <td>50</td>\n",
       "      <td>24</td>\n",
       "      <td>86</td>\n",
       "      <td>0</td>\n",
       "      <td>0</td>\n",
       "      <td>64</td>\n",
       "      <td>4</td>\n",
       "    </tr>\n",
       "    <tr>\n",
       "      <th>852</th>\n",
       "      <td>Numb</td>\n",
       "      <td>Marshmello, Khalid</td>\n",
       "      <td>2</td>\n",
       "      <td>2022</td>\n",
       "      <td>6</td>\n",
       "      <td>10</td>\n",
       "      <td>3879</td>\n",
       "      <td>2</td>\n",
       "      <td>295307001</td>\n",
       "      <td>107</td>\n",
       "      <td>...</td>\n",
       "      <td>120</td>\n",
       "      <td>NaN</td>\n",
       "      <td>Minor</td>\n",
       "      <td>91</td>\n",
       "      <td>63</td>\n",
       "      <td>77</td>\n",
       "      <td>12</td>\n",
       "      <td>1</td>\n",
       "      <td>10</td>\n",
       "      <td>5</td>\n",
       "    </tr>\n",
       "  </tbody>\n",
       "</table>\n",
       "<p>14 rows × 24 columns</p>\n",
       "</div>"
      ],
      "text/plain": [
       "                                 track_name  \\\n",
       "372                         About Damn Time   \n",
       "764                         About Damn Time   \n",
       "13                                 Daylight   \n",
       "831                                Daylight   \n",
       "47                              Die For You   \n",
       "417                             Die For You   \n",
       "12                                  Flowers   \n",
       "825                                 Flowers   \n",
       "448  Let It Snow! Let It Snow! Let It Snow!   \n",
       "466  Let It Snow! Let It Snow! Let It Snow!   \n",
       "335                                Miss You   \n",
       "922                                Miss You   \n",
       "331                                    Numb   \n",
       "852                                    Numb   \n",
       "\n",
       "                           artist_name  artist_count  released_year  \\\n",
       "372                              Lizzo             1           2022   \n",
       "764                              Lizzo             1           2022   \n",
       "13                       David Kushner             1           2023   \n",
       "831                       Harry Styles             1           2022   \n",
       "47                          The Weeknd             1           2016   \n",
       "417                               Joji             1           2022   \n",
       "12                         Miley Cyrus             1           2023   \n",
       "825               Lauren Spencer Smith             1           2021   \n",
       "448                        Dean Martin             1           1959   \n",
       "466  Frank Sinatra, B. Swanson Quartet             2           1950   \n",
       "335          Robin Schulz, Oliver Tree             2           2022   \n",
       "922                          Southstar             1           1982   \n",
       "331                        Linkin Park             1           2003   \n",
       "852                 Marshmello, Khalid             2           2022   \n",
       "\n",
       "     released_month  released_day  in_spotify_playlists  in_spotify_charts  \\\n",
       "372               7            15                  2332                  2   \n",
       "764               4            14                  9021                  0   \n",
       "13                4            14                  3528                 98   \n",
       "831               5            20                  2775                  0   \n",
       "47               11            24                  2483                 59   \n",
       "417              11             4                  1703                  0   \n",
       "12                1            12                 12211                115   \n",
       "825               8             9                   801                  0   \n",
       "448              11            16                  6512                  0   \n",
       "466               1             1                 10585                  0   \n",
       "335               8             5                  5730                 10   \n",
       "922               5            16                  2020                  0   \n",
       "331               3            24                 20111                  5   \n",
       "852               6            10                  3879                  2   \n",
       "\n",
       "        streams  in_apple_playlists  ...  bpm  key   mode danceability  \\\n",
       "372   723894473                   0  ...  109   A#  Minor           84   \n",
       "764   723894473                 242  ...  109   A#  Minor           84   \n",
       "13    387570742                  80  ...  130    D  Minor           51   \n",
       "831   290833204                  21  ...  146  NaN  Major           69   \n",
       "47   1647990401                  68  ...  134   C#  Minor           59   \n",
       "417   246390068                  38  ...  148   G#  Major           47   \n",
       "12   1316855716                 300  ...  118  NaN  Major           71   \n",
       "825   184826429                  42  ...  138   D#  Major           70   \n",
       "448   446390129                  88  ...  134   C#  Major           45   \n",
       "466   473248298                 126  ...  143    D  Major           60   \n",
       "335   497225336                 108  ...  145   F#  Minor           59   \n",
       "922   154356956                  77  ...  145    A  Major           66   \n",
       "331  1361425037                  39  ...  110    A  Major           50   \n",
       "852   295307001                 107  ...  120  NaN  Minor           91   \n",
       "\n",
       "     valence energy acousticness  instrumentalness  liveness  speechiness  \n",
       "372       72     74           10                 0        34            7  \n",
       "764       72     74           10                 0        34            7  \n",
       "13        32     43           83                 0         9            3  \n",
       "831       63     45           48                 0        18            4  \n",
       "47        51     52            9                 0        15            7  \n",
       "417       15     52           38                13        29            5  \n",
       "12        65     68            6                 0         3            7  \n",
       "825       31     44           84                 0         9           39  \n",
       "448       72     24           91                 0        18            4  \n",
       "466       86     32           88                 0        34            6  \n",
       "335       20     74            1                 0        15            5  \n",
       "922       24     58           17                 0        19            5  \n",
       "331       24     86            0                 0        64            4  \n",
       "852       63     77           12                 1        10            5  \n",
       "\n",
       "[14 rows x 24 columns]"
      ]
     },
     "execution_count": 190,
     "metadata": {},
     "output_type": "execute_result"
    }
   ],
   "source": [
    "df = df.drop([873,482,616])\n",
    "df[df[\"track_name\"].duplicated(keep=False)].sort_values(\"track_name\")"
   ]
  },
  {
   "cell_type": "markdown",
   "id": "4ada94c4",
   "metadata": {},
   "source": [
    "#### Top 10 singers (based on count)"
   ]
  },
  {
   "cell_type": "code",
   "execution_count": 191,
   "id": "23bd2563",
   "metadata": {},
   "outputs": [
    {
     "data": {
      "text/plain": [
       "Taylor Swift      34\n",
       "The Weeknd        21\n",
       "SZA               19\n",
       "Bad Bunny         19\n",
       "Harry Styles      17\n",
       "Kendrick Lamar    12\n",
       "Morgan Wallen     11\n",
       "Ed Sheeran         9\n",
       "Feid               8\n",
       "BTS                8\n",
       "Name: artist_name, dtype: int64"
      ]
     },
     "execution_count": 191,
     "metadata": {},
     "output_type": "execute_result"
    }
   ],
   "source": [
    "df1 = df[\"artist_name\"].value_counts().head(10)\n",
    "df1.columns = [\"artist_name\",\"count\"]\n",
    "df1"
   ]
  },
  {
   "cell_type": "code",
   "execution_count": 192,
   "id": "5ac7e388",
   "metadata": {},
   "outputs": [
    {
     "data": {
      "text/plain": [
       "Text(0.5, 0, 'Artists')"
      ]
     },
     "execution_count": 192,
     "metadata": {},
     "output_type": "execute_result"
    },
    {
     "data": {
      "image/png": "[encoded data removed]",
      "text/plain": [
       "<Figure size 432x288 with 1 Axes>"
      ]
     },
     "metadata": {
      "needs_background": "light"
     },
     "output_type": "display_data"
    }
   ],
   "source": [
    "df1.plot(kind=\"bar\")\n",
    "plt.ylabel(\"Count\")\n",
    "plt.xlabel(\"Artists\")"
   ]
  },
  {
   "cell_type": "code",
   "execution_count": 193,
   "id": "ce428618",
   "metadata": {},
   "outputs": [],
   "source": [
    "df = df.drop(574)"
   ]
  },
  {
   "cell_type": "markdown",
   "id": "e81459d1",
   "metadata": {},
   "source": [
    "Streams column is of type object, I changed it to integer"
   ]
  },
  {
   "cell_type": "code",
   "execution_count": 195,
   "id": "ef8a7315",
   "metadata": {},
   "outputs": [
    {
     "data": {
      "text/html": [
       "<div>\n",
       "<style scoped>\n",
       "    .dataframe tbody tr th:only-of-type {\n",
       "        vertical-align: middle;\n",
       "    }\n",
       "\n",
       "    .dataframe tbody tr th {\n",
       "        vertical-align: top;\n",
       "    }\n",
       "\n",
       "    .dataframe thead th {\n",
       "        text-align: right;\n",
       "    }\n",
       "</style>\n",
       "<table border=\"1\" class=\"dataframe\">\n",
       "  <thead>\n",
       "    <tr style=\"text-align: right;\">\n",
       "      <th></th>\n",
       "      <th>track_name</th>\n",
       "      <th>artist_name</th>\n",
       "      <th>artist_count</th>\n",
       "      <th>released_year</th>\n",
       "      <th>released_month</th>\n",
       "      <th>released_day</th>\n",
       "      <th>in_spotify_playlists</th>\n",
       "      <th>in_spotify_charts</th>\n",
       "      <th>streams</th>\n",
       "      <th>in_apple_playlists</th>\n",
       "      <th>...</th>\n",
       "      <th>bpm</th>\n",
       "      <th>key</th>\n",
       "      <th>mode</th>\n",
       "      <th>danceability</th>\n",
       "      <th>valence</th>\n",
       "      <th>energy</th>\n",
       "      <th>acousticness</th>\n",
       "      <th>instrumentalness</th>\n",
       "      <th>liveness</th>\n",
       "      <th>speechiness</th>\n",
       "    </tr>\n",
       "  </thead>\n",
       "  <tbody>\n",
       "    <tr>\n",
       "      <th>0</th>\n",
       "      <td>Seven (feat. Latto) (Explicit Ver.)</td>\n",
       "      <td>Latto, Jung Kook</td>\n",
       "      <td>2</td>\n",
       "      <td>2023</td>\n",
       "      <td>7</td>\n",
       "      <td>14</td>\n",
       "      <td>553</td>\n",
       "      <td>147</td>\n",
       "      <td>141381703</td>\n",
       "      <td>43</td>\n",
       "      <td>...</td>\n",
       "      <td>125</td>\n",
       "      <td>B</td>\n",
       "      <td>Major</td>\n",
       "      <td>80</td>\n",
       "      <td>89</td>\n",
       "      <td>83</td>\n",
       "      <td>31</td>\n",
       "      <td>0</td>\n",
       "      <td>8</td>\n",
       "      <td>4</td>\n",
       "    </tr>\n",
       "    <tr>\n",
       "      <th>1</th>\n",
       "      <td>LALA</td>\n",
       "      <td>Myke Towers</td>\n",
       "      <td>1</td>\n",
       "      <td>2023</td>\n",
       "      <td>3</td>\n",
       "      <td>23</td>\n",
       "      <td>1474</td>\n",
       "      <td>48</td>\n",
       "      <td>133716286</td>\n",
       "      <td>48</td>\n",
       "      <td>...</td>\n",
       "      <td>92</td>\n",
       "      <td>C#</td>\n",
       "      <td>Major</td>\n",
       "      <td>71</td>\n",
       "      <td>61</td>\n",
       "      <td>74</td>\n",
       "      <td>7</td>\n",
       "      <td>0</td>\n",
       "      <td>10</td>\n",
       "      <td>4</td>\n",
       "    </tr>\n",
       "    <tr>\n",
       "      <th>2</th>\n",
       "      <td>vampire</td>\n",
       "      <td>Olivia Rodrigo</td>\n",
       "      <td>1</td>\n",
       "      <td>2023</td>\n",
       "      <td>6</td>\n",
       "      <td>30</td>\n",
       "      <td>1397</td>\n",
       "      <td>113</td>\n",
       "      <td>140003974</td>\n",
       "      <td>94</td>\n",
       "      <td>...</td>\n",
       "      <td>138</td>\n",
       "      <td>F</td>\n",
       "      <td>Major</td>\n",
       "      <td>51</td>\n",
       "      <td>32</td>\n",
       "      <td>53</td>\n",
       "      <td>17</td>\n",
       "      <td>0</td>\n",
       "      <td>31</td>\n",
       "      <td>6</td>\n",
       "    </tr>\n",
       "    <tr>\n",
       "      <th>3</th>\n",
       "      <td>Cruel Summer</td>\n",
       "      <td>Taylor Swift</td>\n",
       "      <td>1</td>\n",
       "      <td>2019</td>\n",
       "      <td>8</td>\n",
       "      <td>23</td>\n",
       "      <td>7858</td>\n",
       "      <td>100</td>\n",
       "      <td>800840817</td>\n",
       "      <td>116</td>\n",
       "      <td>...</td>\n",
       "      <td>170</td>\n",
       "      <td>A</td>\n",
       "      <td>Major</td>\n",
       "      <td>55</td>\n",
       "      <td>58</td>\n",
       "      <td>72</td>\n",
       "      <td>11</td>\n",
       "      <td>0</td>\n",
       "      <td>11</td>\n",
       "      <td>15</td>\n",
       "    </tr>\n",
       "    <tr>\n",
       "      <th>4</th>\n",
       "      <td>WHERE SHE GOES</td>\n",
       "      <td>Bad Bunny</td>\n",
       "      <td>1</td>\n",
       "      <td>2023</td>\n",
       "      <td>5</td>\n",
       "      <td>18</td>\n",
       "      <td>3133</td>\n",
       "      <td>50</td>\n",
       "      <td>303236322</td>\n",
       "      <td>84</td>\n",
       "      <td>...</td>\n",
       "      <td>144</td>\n",
       "      <td>A</td>\n",
       "      <td>Minor</td>\n",
       "      <td>65</td>\n",
       "      <td>23</td>\n",
       "      <td>80</td>\n",
       "      <td>14</td>\n",
       "      <td>63</td>\n",
       "      <td>11</td>\n",
       "      <td>6</td>\n",
       "    </tr>\n",
       "  </tbody>\n",
       "</table>\n",
       "<p>5 rows × 24 columns</p>\n",
       "</div>"
      ],
      "text/plain": [
       "                            track_name       artist_name  artist_count  \\\n",
       "0  Seven (feat. Latto) (Explicit Ver.)  Latto, Jung Kook             2   \n",
       "1                                 LALA       Myke Towers             1   \n",
       "2                              vampire    Olivia Rodrigo             1   \n",
       "3                         Cruel Summer      Taylor Swift             1   \n",
       "4                       WHERE SHE GOES         Bad Bunny             1   \n",
       "\n",
       "   released_year  released_month  released_day  in_spotify_playlists  \\\n",
       "0           2023               7            14                   553   \n",
       "1           2023               3            23                  1474   \n",
       "2           2023               6            30                  1397   \n",
       "3           2019               8            23                  7858   \n",
       "4           2023               5            18                  3133   \n",
       "\n",
       "   in_spotify_charts    streams  in_apple_playlists  ...  bpm key   mode  \\\n",
       "0                147  141381703                  43  ...  125   B  Major   \n",
       "1                 48  133716286                  48  ...   92  C#  Major   \n",
       "2                113  140003974                  94  ...  138   F  Major   \n",
       "3                100  800840817                 116  ...  170   A  Major   \n",
       "4                 50  303236322                  84  ...  144   A  Minor   \n",
       "\n",
       "  danceability  valence energy acousticness  instrumentalness  liveness  \\\n",
       "0           80       89     83           31                 0         8   \n",
       "1           71       61     74            7                 0        10   \n",
       "2           51       32     53           17                 0        31   \n",
       "3           55       58     72           11                 0        11   \n",
       "4           65       23     80           14                63        11   \n",
       "\n",
       "   speechiness  \n",
       "0            4  \n",
       "1            4  \n",
       "2            6  \n",
       "3           15  \n",
       "4            6  \n",
       "\n",
       "[5 rows x 24 columns]"
      ]
     },
     "execution_count": 195,
     "metadata": {},
     "output_type": "execute_result"
    }
   ],
   "source": [
    "df[\"streams\"] = df[\"streams\"].astype(str).astype(np.int64)\n",
    "df.head()"
   ]
  },
  {
   "cell_type": "markdown",
   "id": "9a49590f",
   "metadata": {},
   "source": [
    "#### Distribution of streams"
   ]
  },
  {
   "cell_type": "code",
   "execution_count": 196,
   "id": "14245db1",
   "metadata": {},
   "outputs": [
    {
     "data": {
      "text/plain": [
       "<AxesSubplot:xlabel='streams', ylabel='Count'>"
      ]
     },
     "execution_count": 196,
     "metadata": {},
     "output_type": "execute_result"
    },
    {
     "data": {
      "image/png": "[encoded data removed]",
      "text/plain": [
       "<Figure size 432x288 with 1 Axes>"
      ]
     },
     "metadata": {
      "needs_background": "light"
     },
     "output_type": "display_data"
    }
   ],
   "source": [
    "sns.histplot(data=df,x=\"streams\",kde=True,bins=30)"
   ]
  },
  {
   "cell_type": "markdown",
   "id": "fa0ef857",
   "metadata": {},
   "source": [
    "#### Top 10 streamed songs"
   ]
  },
  {
   "cell_type": "code",
   "execution_count": 197,
   "id": "d5a402d6",
   "metadata": {},
   "outputs": [
    {
     "data": {
      "text/html": [
       "<div>\n",
       "<style scoped>\n",
       "    .dataframe tbody tr th:only-of-type {\n",
       "        vertical-align: middle;\n",
       "    }\n",
       "\n",
       "    .dataframe tbody tr th {\n",
       "        vertical-align: top;\n",
       "    }\n",
       "\n",
       "    .dataframe thead th {\n",
       "        text-align: right;\n",
       "    }\n",
       "</style>\n",
       "<table border=\"1\" class=\"dataframe\">\n",
       "  <thead>\n",
       "    <tr style=\"text-align: right;\">\n",
       "      <th></th>\n",
       "      <th>track_name</th>\n",
       "      <th>artist_name</th>\n",
       "      <th>streams</th>\n",
       "    </tr>\n",
       "  </thead>\n",
       "  <tbody>\n",
       "    <tr>\n",
       "      <th>55</th>\n",
       "      <td>Blinding Lights</td>\n",
       "      <td>The Weeknd</td>\n",
       "      <td>3703895074</td>\n",
       "    </tr>\n",
       "    <tr>\n",
       "      <th>179</th>\n",
       "      <td>Shape of You</td>\n",
       "      <td>Ed Sheeran</td>\n",
       "      <td>3562543890</td>\n",
       "    </tr>\n",
       "    <tr>\n",
       "      <th>86</th>\n",
       "      <td>Someone You Loved</td>\n",
       "      <td>Lewis Capaldi</td>\n",
       "      <td>2887241814</td>\n",
       "    </tr>\n",
       "    <tr>\n",
       "      <th>620</th>\n",
       "      <td>Dance Monkey</td>\n",
       "      <td>Tones and I</td>\n",
       "      <td>2864791672</td>\n",
       "    </tr>\n",
       "    <tr>\n",
       "      <th>41</th>\n",
       "      <td>Sunflower - Spider-Man: Into the Spider-Verse</td>\n",
       "      <td>Post Malone, Swae Lee</td>\n",
       "      <td>2808096550</td>\n",
       "    </tr>\n",
       "    <tr>\n",
       "      <th>162</th>\n",
       "      <td>One Dance</td>\n",
       "      <td>Drake, WizKid, Kyla</td>\n",
       "      <td>2713922350</td>\n",
       "    </tr>\n",
       "    <tr>\n",
       "      <th>84</th>\n",
       "      <td>STAY (with Justin Bieber)</td>\n",
       "      <td>Justin Bieber, The Kid Laroi</td>\n",
       "      <td>2665343922</td>\n",
       "    </tr>\n",
       "    <tr>\n",
       "      <th>140</th>\n",
       "      <td>Believer</td>\n",
       "      <td>Imagine Dragons</td>\n",
       "      <td>2594040133</td>\n",
       "    </tr>\n",
       "    <tr>\n",
       "      <th>725</th>\n",
       "      <td>Closer</td>\n",
       "      <td>The Chainsmokers, Halsey</td>\n",
       "      <td>2591224264</td>\n",
       "    </tr>\n",
       "    <tr>\n",
       "      <th>48</th>\n",
       "      <td>Starboy</td>\n",
       "      <td>The Weeknd, Daft Punk</td>\n",
       "      <td>2565529693</td>\n",
       "    </tr>\n",
       "  </tbody>\n",
       "</table>\n",
       "</div>"
      ],
      "text/plain": [
       "                                        track_name  \\\n",
       "55                                 Blinding Lights   \n",
       "179                                   Shape of You   \n",
       "86                               Someone You Loved   \n",
       "620                                   Dance Monkey   \n",
       "41   Sunflower - Spider-Man: Into the Spider-Verse   \n",
       "162                                      One Dance   \n",
       "84                       STAY (with Justin Bieber)   \n",
       "140                                       Believer   \n",
       "725                                         Closer   \n",
       "48                                         Starboy   \n",
       "\n",
       "                      artist_name     streams  \n",
       "55                     The Weeknd  3703895074  \n",
       "179                    Ed Sheeran  3562543890  \n",
       "86                  Lewis Capaldi  2887241814  \n",
       "620                   Tones and I  2864791672  \n",
       "41          Post Malone, Swae Lee  2808096550  \n",
       "162           Drake, WizKid, Kyla  2713922350  \n",
       "84   Justin Bieber, The Kid Laroi  2665343922  \n",
       "140               Imagine Dragons  2594040133  \n",
       "725      The Chainsmokers, Halsey  2591224264  \n",
       "48          The Weeknd, Daft Punk  2565529693  "
      ]
     },
     "execution_count": 197,
     "metadata": {},
     "output_type": "execute_result"
    }
   ],
   "source": [
    "df1 = df.sort_values(by=\"streams\",ascending=False).head(10)\n",
    "df1 = df1[[\"track_name\",\"artist_name\",\"streams\"]]\n",
    "df1"
   ]
  },
  {
   "cell_type": "markdown",
   "id": "511c0969",
   "metadata": {},
   "source": [
    "#### Ranking at Spotify Charts vs the Year "
   ]
  },
  {
   "cell_type": "code",
   "execution_count": 200,
   "id": "05506a0d",
   "metadata": {},
   "outputs": [
    {
     "data": {
      "text/plain": [
       "Text(0.5, 0, 'Ranking at Spotify Charts')"
      ]
     },
     "execution_count": 200,
     "metadata": {},
     "output_type": "execute_result"
    },
    {
     "data": {
      "image/png": "[encoded data removed]",
      "text/plain": [
       "<Figure size 432x288 with 1 Axes>"
      ]
     },
     "metadata": {
      "needs_background": "light"
     },
     "output_type": "display_data"
    }
   ],
   "source": [
    "sns.scatterplot(data=df1,x=\"in_spotify_charts\",y=\"released_year\")\n",
    "plt.ylabel(\"Year\")\n",
    "plt.xlabel(\"Ranking at Spotify Charts\")"
   ]
  },
  {
   "cell_type": "markdown",
   "id": "0498f2e4",
   "metadata": {},
   "source": [
    "There are few very old songs that have reached the top 20 of the spotify charts"
   ]
  },
  {
   "cell_type": "markdown",
   "id": "aea5fa2e",
   "metadata": {},
   "source": [
    "#### Ranking at Spotify Charts vs the Month"
   ]
  },
  {
   "cell_type": "code",
   "execution_count": 201,
   "id": "83dadfb8",
   "metadata": {},
   "outputs": [
    {
     "data": {
      "text/plain": [
       "Text(0.5, 0, 'Ranking at Spotify Charts')"
      ]
     },
     "execution_count": 201,
     "metadata": {},
     "output_type": "execute_result"
    },
    {
     "data": {
      "image/png": "[encoded data removed]",
      "text/plain": [
       "<Figure size 432x288 with 1 Axes>"
      ]
     },
     "metadata": {
      "needs_background": "light"
     },
     "output_type": "display_data"
    }
   ],
   "source": [
    "sns.scatterplot(data=df1,x=\"in_spotify_charts\",y=\"released_month\")\n",
    "plt.ylabel(\"Month\")\n",
    "plt.xlabel(\"Ranking at Spotify Charts\")"
   ]
  },
  {
   "cell_type": "markdown",
   "id": "8690a8c0",
   "metadata": {},
   "source": [
    "#### Songs that claimed first rank at spotify charts based on the month"
   ]
  },
  {
   "cell_type": "code",
   "execution_count": 202,
   "id": "0b7957f8",
   "metadata": {},
   "outputs": [
    {
     "data": {
      "text/html": [
       "<div>\n",
       "<style scoped>\n",
       "    .dataframe tbody tr th:only-of-type {\n",
       "        vertical-align: middle;\n",
       "    }\n",
       "\n",
       "    .dataframe tbody tr th {\n",
       "        vertical-align: top;\n",
       "    }\n",
       "\n",
       "    .dataframe thead th {\n",
       "        text-align: right;\n",
       "    }\n",
       "</style>\n",
       "<table border=\"1\" class=\"dataframe\">\n",
       "  <thead>\n",
       "    <tr style=\"text-align: right;\">\n",
       "      <th></th>\n",
       "      <th>track_name</th>\n",
       "      <th>artist_name</th>\n",
       "      <th>released_month</th>\n",
       "    </tr>\n",
       "  </thead>\n",
       "  <tbody>\n",
       "    <tr>\n",
       "      <th>228</th>\n",
       "      <td>Hummingbird (Metro Boomin &amp; James Blake)</td>\n",
       "      <td>James Blake, Metro Boomin</td>\n",
       "      <td>6</td>\n",
       "    </tr>\n",
       "    <tr>\n",
       "      <th>254</th>\n",
       "      <td>Mejor Que Yo</td>\n",
       "      <td>Mambo Kingz, DJ Luian, Anuel Aa</td>\n",
       "      <td>5</td>\n",
       "    </tr>\n",
       "    <tr>\n",
       "      <th>536</th>\n",
       "      <td>Malvad</td>\n",
       "      <td>Xam  , Gustah, Neo B</td>\n",
       "      <td>11</td>\n",
       "    </tr>\n",
       "    <tr>\n",
       "      <th>583</th>\n",
       "      <td>ELEVEN</td>\n",
       "      <td>IVE</td>\n",
       "      <td>12</td>\n",
       "    </tr>\n",
       "    <tr>\n",
       "      <th>667</th>\n",
       "      <td>Cay   La Noche (feat. Cruz Cafun  , Abhir Hath...</td>\n",
       "      <td>Quevedo, La Pantera, Juseph, Cruz Cafun  , B  ...</td>\n",
       "      <td>1</td>\n",
       "    </tr>\n",
       "    <tr>\n",
       "      <th>672</th>\n",
       "      <td>HUMBLE.</td>\n",
       "      <td>Kendrick Lamar</td>\n",
       "      <td>3</td>\n",
       "    </tr>\n",
       "    <tr>\n",
       "      <th>695</th>\n",
       "      <td>Adore You</td>\n",
       "      <td>Harry Styles</td>\n",
       "      <td>12</td>\n",
       "    </tr>\n",
       "    <tr>\n",
       "      <th>732</th>\n",
       "      <td>X   LTIMA</td>\n",
       "      <td>Daddy Yankee, Bad Bunny</td>\n",
       "      <td>3</td>\n",
       "    </tr>\n",
       "    <tr>\n",
       "      <th>756</th>\n",
       "      <td>Golden</td>\n",
       "      <td>Harry Styles</td>\n",
       "      <td>12</td>\n",
       "    </tr>\n",
       "    <tr>\n",
       "      <th>786</th>\n",
       "      <td>Un Verano Sin Ti</td>\n",
       "      <td>Bad Bunny</td>\n",
       "      <td>5</td>\n",
       "    </tr>\n",
       "    <tr>\n",
       "      <th>822</th>\n",
       "      <td>San Lucas</td>\n",
       "      <td>Kevin Kaarl</td>\n",
       "      <td>11</td>\n",
       "    </tr>\n",
       "    <tr>\n",
       "      <th>828</th>\n",
       "      <td>Music For a Sushi Restaurant</td>\n",
       "      <td>Harry Styles</td>\n",
       "      <td>5</td>\n",
       "    </tr>\n",
       "    <tr>\n",
       "      <th>846</th>\n",
       "      <td>Keep Driving</td>\n",
       "      <td>Harry Styles</td>\n",
       "      <td>5</td>\n",
       "    </tr>\n",
       "    <tr>\n",
       "      <th>851</th>\n",
       "      <td>Daydreaming</td>\n",
       "      <td>Harry Styles</td>\n",
       "      <td>5</td>\n",
       "    </tr>\n",
       "    <tr>\n",
       "      <th>871</th>\n",
       "      <td>Sweet Child O' Mine</td>\n",
       "      <td>Guns N' Roses</td>\n",
       "      <td>1</td>\n",
       "    </tr>\n",
       "    <tr>\n",
       "      <th>927</th>\n",
       "      <td>I Really Want to Stay at Your House</td>\n",
       "      <td>Rosa Walton, Hallie Coggins</td>\n",
       "      <td>12</td>\n",
       "    </tr>\n",
       "  </tbody>\n",
       "</table>\n",
       "</div>"
      ],
      "text/plain": [
       "                                            track_name  \\\n",
       "228           Hummingbird (Metro Boomin & James Blake)   \n",
       "254                                       Mejor Que Yo   \n",
       "536                                           Malvad     \n",
       "583                                             ELEVEN   \n",
       "667  Cay   La Noche (feat. Cruz Cafun  , Abhir Hath...   \n",
       "672                                            HUMBLE.   \n",
       "695                                          Adore You   \n",
       "732                                          X   LTIMA   \n",
       "756                                             Golden   \n",
       "786                                   Un Verano Sin Ti   \n",
       "822                                          San Lucas   \n",
       "828                       Music For a Sushi Restaurant   \n",
       "846                                       Keep Driving   \n",
       "851                                        Daydreaming   \n",
       "871                                Sweet Child O' Mine   \n",
       "927                I Really Want to Stay at Your House   \n",
       "\n",
       "                                           artist_name  released_month  \n",
       "228                          James Blake, Metro Boomin               6  \n",
       "254                    Mambo Kingz, DJ Luian, Anuel Aa               5  \n",
       "536                               Xam  , Gustah, Neo B              11  \n",
       "583                                                IVE              12  \n",
       "667  Quevedo, La Pantera, Juseph, Cruz Cafun  , B  ...               1  \n",
       "672                                     Kendrick Lamar               3  \n",
       "695                                       Harry Styles              12  \n",
       "732                            Daddy Yankee, Bad Bunny               3  \n",
       "756                                       Harry Styles              12  \n",
       "786                                          Bad Bunny               5  \n",
       "822                                        Kevin Kaarl              11  \n",
       "828                                       Harry Styles               5  \n",
       "846                                       Harry Styles               5  \n",
       "851                                       Harry Styles               5  \n",
       "871                                      Guns N' Roses               1  \n",
       "927                        Rosa Walton, Hallie Coggins              12  "
      ]
     },
     "execution_count": 202,
     "metadata": {},
     "output_type": "execute_result"
    }
   ],
   "source": [
    "df[df[\"in_spotify_charts\"]==1][[\"track_name\",\"artist_name\",\"released_month\"]]"
   ]
  },
  {
   "cell_type": "markdown",
   "id": "0bfec121",
   "metadata": {},
   "source": [
    "- 5 Songs from Harry Styles\n",
    "- 8 out of the 16 here were released during the winters (in the USA) - November, December, January"
   ]
  },
  {
   "cell_type": "markdown",
   "id": "9238ed4c",
   "metadata": {},
   "source": [
    "#### Top 10 songs that have been added to spotify playlists "
   ]
  },
  {
   "cell_type": "code",
   "execution_count": 203,
   "id": "e64dcc32",
   "metadata": {},
   "outputs": [
    {
     "data": {
      "text/html": [
       "<div>\n",
       "<style scoped>\n",
       "    .dataframe tbody tr th:only-of-type {\n",
       "        vertical-align: middle;\n",
       "    }\n",
       "\n",
       "    .dataframe tbody tr th {\n",
       "        vertical-align: top;\n",
       "    }\n",
       "\n",
       "    .dataframe thead th {\n",
       "        text-align: right;\n",
       "    }\n",
       "</style>\n",
       "<table border=\"1\" class=\"dataframe\">\n",
       "  <thead>\n",
       "    <tr style=\"text-align: right;\">\n",
       "      <th></th>\n",
       "      <th>track_name</th>\n",
       "      <th>artist_name</th>\n",
       "      <th>in_spotify_playlists</th>\n",
       "    </tr>\n",
       "  </thead>\n",
       "  <tbody>\n",
       "    <tr>\n",
       "      <th>757</th>\n",
       "      <td>Get Lucky - Radio Edit</td>\n",
       "      <td>Pharrell Williams, Nile Rodgers, Daft Punk</td>\n",
       "      <td>52898</td>\n",
       "    </tr>\n",
       "    <tr>\n",
       "      <th>630</th>\n",
       "      <td>Mr. Brightside</td>\n",
       "      <td>The Killers</td>\n",
       "      <td>51979</td>\n",
       "    </tr>\n",
       "    <tr>\n",
       "      <th>720</th>\n",
       "      <td>Wake Me Up - Radio Edit</td>\n",
       "      <td>Avicii</td>\n",
       "      <td>50887</td>\n",
       "    </tr>\n",
       "    <tr>\n",
       "      <th>624</th>\n",
       "      <td>Smells Like Teen Spirit - Remastered 2021</td>\n",
       "      <td>Nirvana</td>\n",
       "      <td>49991</td>\n",
       "    </tr>\n",
       "    <tr>\n",
       "      <th>199</th>\n",
       "      <td>Take On Me</td>\n",
       "      <td>a-ha</td>\n",
       "      <td>44927</td>\n",
       "    </tr>\n",
       "    <tr>\n",
       "      <th>55</th>\n",
       "      <td>Blinding Lights</td>\n",
       "      <td>The Weeknd</td>\n",
       "      <td>43899</td>\n",
       "    </tr>\n",
       "    <tr>\n",
       "      <th>162</th>\n",
       "      <td>One Dance</td>\n",
       "      <td>Drake, WizKid, Kyla</td>\n",
       "      <td>43257</td>\n",
       "    </tr>\n",
       "    <tr>\n",
       "      <th>727</th>\n",
       "      <td>Somebody That I Used To Know</td>\n",
       "      <td>Gotye, Kimbra</td>\n",
       "      <td>42798</td>\n",
       "    </tr>\n",
       "    <tr>\n",
       "      <th>114</th>\n",
       "      <td>Everybody Wants To Rule The World</td>\n",
       "      <td>Tears For Fears</td>\n",
       "      <td>41751</td>\n",
       "    </tr>\n",
       "    <tr>\n",
       "      <th>871</th>\n",
       "      <td>Sweet Child O' Mine</td>\n",
       "      <td>Guns N' Roses</td>\n",
       "      <td>41231</td>\n",
       "    </tr>\n",
       "  </tbody>\n",
       "</table>\n",
       "</div>"
      ],
      "text/plain": [
       "                                    track_name  \\\n",
       "757                     Get Lucky - Radio Edit   \n",
       "630                             Mr. Brightside   \n",
       "720                    Wake Me Up - Radio Edit   \n",
       "624  Smells Like Teen Spirit - Remastered 2021   \n",
       "199                                 Take On Me   \n",
       "55                             Blinding Lights   \n",
       "162                                  One Dance   \n",
       "727               Somebody That I Used To Know   \n",
       "114          Everybody Wants To Rule The World   \n",
       "871                        Sweet Child O' Mine   \n",
       "\n",
       "                                    artist_name  in_spotify_playlists  \n",
       "757  Pharrell Williams, Nile Rodgers, Daft Punk                 52898  \n",
       "630                                 The Killers                 51979  \n",
       "720                                      Avicii                 50887  \n",
       "624                                     Nirvana                 49991  \n",
       "199                                        a-ha                 44927  \n",
       "55                                   The Weeknd                 43899  \n",
       "162                         Drake, WizKid, Kyla                 43257  \n",
       "727                               Gotye, Kimbra                 42798  \n",
       "114                             Tears For Fears                 41751  \n",
       "871                               Guns N' Roses                 41231  "
      ]
     },
     "execution_count": 203,
     "metadata": {},
     "output_type": "execute_result"
    }
   ],
   "source": [
    "df1 = df.sort_values(by=\"in_spotify_playlists\",ascending=False).head(10)\n",
    "df1 = df1[[\"track_name\",\"artist_name\",\"in_spotify_playlists\"]]\n",
    "df1"
   ]
  },
  {
   "cell_type": "markdown",
   "id": "86ebc254",
   "metadata": {},
   "source": [
    "#### Top 10 songs that have been added to apple playlists "
   ]
  },
  {
   "cell_type": "code",
   "execution_count": 204,
   "id": "06073175",
   "metadata": {},
   "outputs": [
    {
     "data": {
      "text/html": [
       "<div>\n",
       "<style scoped>\n",
       "    .dataframe tbody tr th:only-of-type {\n",
       "        vertical-align: middle;\n",
       "    }\n",
       "\n",
       "    .dataframe tbody tr th {\n",
       "        vertical-align: top;\n",
       "    }\n",
       "\n",
       "    .dataframe thead th {\n",
       "        text-align: right;\n",
       "    }\n",
       "</style>\n",
       "<table border=\"1\" class=\"dataframe\">\n",
       "  <thead>\n",
       "    <tr style=\"text-align: right;\">\n",
       "      <th></th>\n",
       "      <th>track_name</th>\n",
       "      <th>artist_name</th>\n",
       "      <th>in_apple_playlists</th>\n",
       "    </tr>\n",
       "  </thead>\n",
       "  <tbody>\n",
       "    <tr>\n",
       "      <th>55</th>\n",
       "      <td>Blinding Lights</td>\n",
       "      <td>The Weeknd</td>\n",
       "      <td>672</td>\n",
       "    </tr>\n",
       "    <tr>\n",
       "      <th>403</th>\n",
       "      <td>One Kiss (with Dua Lipa)</td>\n",
       "      <td>Calvin Harris, Dua Lipa</td>\n",
       "      <td>537</td>\n",
       "    </tr>\n",
       "    <tr>\n",
       "      <th>620</th>\n",
       "      <td>Dance Monkey</td>\n",
       "      <td>Tones and I</td>\n",
       "      <td>533</td>\n",
       "    </tr>\n",
       "    <tr>\n",
       "      <th>407</th>\n",
       "      <td>Don't Start Now</td>\n",
       "      <td>Dua Lipa</td>\n",
       "      <td>532</td>\n",
       "    </tr>\n",
       "    <tr>\n",
       "      <th>84</th>\n",
       "      <td>STAY (with Justin Bieber)</td>\n",
       "      <td>Justin Bieber, The Kid Laroi</td>\n",
       "      <td>492</td>\n",
       "    </tr>\n",
       "    <tr>\n",
       "      <th>693</th>\n",
       "      <td>Se  o</td>\n",
       "      <td>Shawn Mendes, Camila Cabello</td>\n",
       "      <td>453</td>\n",
       "    </tr>\n",
       "    <tr>\n",
       "      <th>86</th>\n",
       "      <td>Someone You Loved</td>\n",
       "      <td>Lewis Capaldi</td>\n",
       "      <td>440</td>\n",
       "    </tr>\n",
       "    <tr>\n",
       "      <th>127</th>\n",
       "      <td>Watermelon Sugar</td>\n",
       "      <td>Harry Styles</td>\n",
       "      <td>437</td>\n",
       "    </tr>\n",
       "    <tr>\n",
       "      <th>162</th>\n",
       "      <td>One Dance</td>\n",
       "      <td>Drake, WizKid, Kyla</td>\n",
       "      <td>433</td>\n",
       "    </tr>\n",
       "    <tr>\n",
       "      <th>14</th>\n",
       "      <td>As It Was</td>\n",
       "      <td>Harry Styles</td>\n",
       "      <td>403</td>\n",
       "    </tr>\n",
       "  </tbody>\n",
       "</table>\n",
       "</div>"
      ],
      "text/plain": [
       "                    track_name                   artist_name  \\\n",
       "55             Blinding Lights                    The Weeknd   \n",
       "403   One Kiss (with Dua Lipa)       Calvin Harris, Dua Lipa   \n",
       "620               Dance Monkey                   Tones and I   \n",
       "407            Don't Start Now                      Dua Lipa   \n",
       "84   STAY (with Justin Bieber)  Justin Bieber, The Kid Laroi   \n",
       "693                      Se  o  Shawn Mendes, Camila Cabello   \n",
       "86           Someone You Loved                 Lewis Capaldi   \n",
       "127           Watermelon Sugar                  Harry Styles   \n",
       "162                  One Dance           Drake, WizKid, Kyla   \n",
       "14                   As It Was                  Harry Styles   \n",
       "\n",
       "     in_apple_playlists  \n",
       "55                  672  \n",
       "403                 537  \n",
       "620                 533  \n",
       "407                 532  \n",
       "84                  492  \n",
       "693                 453  \n",
       "86                  440  \n",
       "127                 437  \n",
       "162                 433  \n",
       "14                  403  "
      ]
     },
     "execution_count": 204,
     "metadata": {},
     "output_type": "execute_result"
    }
   ],
   "source": [
    "df1 = df.sort_values(by=\"in_apple_playlists\",ascending=False).head(10)\n",
    "df1 = df1[[\"track_name\",\"artist_name\",\"in_apple_playlists\"]]\n",
    "df1"
   ]
  },
  {
   "cell_type": "markdown",
   "id": "dc487ec9",
   "metadata": {},
   "source": [
    "Is there any correlation between number of spotify playlist the song is in vs the number of apple playlists? "
   ]
  },
  {
   "cell_type": "code",
   "execution_count": 205,
   "id": "34095afc",
   "metadata": {},
   "outputs": [
    {
     "data": {
      "text/plain": [
       "0.7084477987148275"
      ]
     },
     "execution_count": 205,
     "metadata": {},
     "output_type": "execute_result"
    }
   ],
   "source": [
    "df[\"in_spotify_playlists\"].corr(df[\"in_apple_playlists\"])"
   ]
  },
  {
   "cell_type": "markdown",
   "id": "d83dcbc1",
   "metadata": {},
   "source": [
    "Yes there is a high positive correlation"
   ]
  },
  {
   "cell_type": "code",
   "execution_count": 206,
   "id": "e580628d",
   "metadata": {},
   "outputs": [
    {
     "data": {
      "text/plain": [
       "Text(0.5, 1.0, 'Apple vs Spotify Playlists for each track')"
      ]
     },
     "execution_count": 206,
     "metadata": {},
     "output_type": "execute_result"
    },
    {
     "data": {
      "image/png": "[encoded data removed]",
      "text/plain": [
       "<Figure size 432x288 with 1 Axes>"
      ]
     },
     "metadata": {
      "needs_background": "light"
     },
     "output_type": "display_data"
    }
   ],
   "source": [
    "sns.scatterplot(data=df,y=\"in_spotify_playlists\",x=\"in_apple_playlists\")\n",
    "plt.xlabel(\"In Apple Playlists\")\n",
    "plt.ylabel(\"In Spotify Playlists\")\n",
    "plt.title(\"Apple vs Spotify Playlists for each track\")"
   ]
  },
  {
   "cell_type": "markdown",
   "id": "780f350b",
   "metadata": {},
   "source": [
    "### Now checking the impact of all the audio features on the streams on spotify "
   ]
  },
  {
   "cell_type": "markdown",
   "id": "3a8d14d7",
   "metadata": {},
   "source": [
    "#### Beats per minutes (bpm)"
   ]
  },
  {
   "cell_type": "code",
   "execution_count": 207,
   "id": "368d4047",
   "metadata": {},
   "outputs": [
    {
     "data": {
      "text/plain": [
       "Text(0.5, 1.0, 'Spotify Streams (in billions) vs Beats per Minutes')"
      ]
     },
     "execution_count": 207,
     "metadata": {},
     "output_type": "execute_result"
    },
    {
     "data": {
      "image/png": "[encoded data removed]",
      "text/plain": [
       "<Figure size 432x288 with 1 Axes>"
      ]
     },
     "metadata": {
      "needs_background": "light"
     },
     "output_type": "display_data"
    }
   ],
   "source": [
    "sns.scatterplot(data=df,y=df[\"streams\"]/1000000000,x=\"bpm\")\n",
    "plt.xlabel(\"Beats per Minutes\")\n",
    "plt.ylabel(\"Spotify Streams (in billions)\")\n",
    "plt.title(\"Spotify Streams (in billions) vs Beats per Minutes\")"
   ]
  },
  {
   "cell_type": "markdown",
   "id": "34f41314",
   "metadata": {},
   "source": [
    "- Majority of the songs with high spotify streams have 80-120 beats per minutes and around 180 beats per minutes"
   ]
  },
  {
   "cell_type": "code",
   "execution_count": 208,
   "id": "253c7055",
   "metadata": {},
   "outputs": [
    {
     "data": {
      "text/plain": [
       "<AxesSubplot:xlabel='bpm', ylabel='Count'>"
      ]
     },
     "execution_count": 208,
     "metadata": {},
     "output_type": "execute_result"
    },
    {
     "data": {
      "image/png": "[encoded data removed]",
      "text/plain": [
       "<Figure size 432x288 with 1 Axes>"
      ]
     },
     "metadata": {
      "needs_background": "light"
     },
     "output_type": "display_data"
    }
   ],
   "source": [
    "sns.histplot(data=df,x=\"bpm\",bins=50,kde=True)"
   ]
  },
  {
   "cell_type": "markdown",
   "id": "ef1630b1",
   "metadata": {},
   "source": [
    "Majority of the songs have 80-120 bpm and later around 170-180 the number of songs rises"
   ]
  },
  {
   "cell_type": "code",
   "execution_count": 209,
   "id": "53fe386e",
   "metadata": {},
   "outputs": [
    {
     "data": {
      "text/plain": [
       "Text(0.5, 1.0, 'Released Year vs Beats per Minutes')"
      ]
     },
     "execution_count": 209,
     "metadata": {},
     "output_type": "execute_result"
    },
    {
     "data": {
      "image/png": "[encoded data removed]",
      "text/plain": [
       "<Figure size 432x288 with 1 Axes>"
      ]
     },
     "metadata": {
      "needs_background": "light"
     },
     "output_type": "display_data"
    }
   ],
   "source": [
    "sns.scatterplot(data=df,y=df[\"released_year\"],x=\"bpm\")\n",
    "plt.xlabel(\"Beats per Minutes\")\n",
    "plt.ylabel(\"Released Year\")\n",
    "plt.title(\"Released Year vs Beats per Minutes\")"
   ]
  },
  {
   "cell_type": "markdown",
   "id": "07b30534",
   "metadata": {},
   "source": [
    "#### Danceability"
   ]
  },
  {
   "cell_type": "code",
   "execution_count": 210,
   "id": "d8c251be",
   "metadata": {},
   "outputs": [
    {
     "data": {
      "text/plain": [
       "<AxesSubplot:xlabel='danceability', ylabel='Count'>"
      ]
     },
     "execution_count": 210,
     "metadata": {},
     "output_type": "execute_result"
    },
    {
     "data": {
      "image/png": "[encoded data removed]",
      "text/plain": [
       "<Figure size 432x288 with 1 Axes>"
      ]
     },
     "metadata": {
      "needs_background": "light"
     },
     "output_type": "display_data"
    }
   ],
   "source": [
    "sns.histplot(data=df,x=\"danceability\",bins=50,kde=True)"
   ]
  },
  {
   "cell_type": "code",
   "execution_count": 211,
   "id": "ba1b9308",
   "metadata": {},
   "outputs": [
    {
     "data": {
      "text/plain": [
       "Text(0.5, 1.0, 'Spotify Streams (in billions) vs Danceability %')"
      ]
     },
     "execution_count": 211,
     "metadata": {},
     "output_type": "execute_result"
    },
    {
     "data": {
      "image/png": "[encoded data removed]",
      "text/plain": [
       "<Figure size 432x288 with 1 Axes>"
      ]
     },
     "metadata": {
      "needs_background": "light"
     },
     "output_type": "display_data"
    }
   ],
   "source": [
    "sns.scatterplot(data=df,y=df[\"streams\"]/1000000000,x=\"danceability\")\n",
    "plt.xlabel(\"Danceability %\")\n",
    "plt.ylabel(\"Spotify Streams (in billions)\")\n",
    "plt.title(\"Spotify Streams (in billions) vs Danceability %\")"
   ]
  },
  {
   "cell_type": "code",
   "execution_count": 212,
   "id": "85b19c20",
   "metadata": {},
   "outputs": [
    {
     "data": {
      "text/plain": [
       "-0.10508394863600153"
      ]
     },
     "execution_count": 212,
     "metadata": {},
     "output_type": "execute_result"
    }
   ],
   "source": [
    "df[\"streams\"].corr(df[\"danceability\"])"
   ]
  },
  {
   "cell_type": "markdown",
   "id": "fadc1b22",
   "metadata": {},
   "source": [
    "Danceability % does not really impact the number of streams"
   ]
  },
  {
   "cell_type": "markdown",
   "id": "8646abd9",
   "metadata": {},
   "source": [
    "#### Valenece (Positivity of the song's musical content)"
   ]
  },
  {
   "cell_type": "code",
   "execution_count": 213,
   "id": "743c1c1a",
   "metadata": {},
   "outputs": [
    {
     "data": {
      "text/plain": [
       "<AxesSubplot:xlabel='valence', ylabel='Count'>"
      ]
     },
     "execution_count": 213,
     "metadata": {},
     "output_type": "execute_result"
    },
    {
     "data": {
      "image/png": "[encoded data removed]",
      "text/plain": [
       "<Figure size 432x288 with 1 Axes>"
      ]
     },
     "metadata": {
      "needs_background": "light"
     },
     "output_type": "display_data"
    }
   ],
   "source": [
    "sns.histplot(data=df,x=\"valence\",bins=50,kde=True)"
   ]
  },
  {
   "cell_type": "code",
   "execution_count": 214,
   "id": "3fb19ea5",
   "metadata": {},
   "outputs": [
    {
     "data": {
      "text/plain": [
       "Text(0.5, 1.0, 'Spotify Streams (in billions) vs Valence %')"
      ]
     },
     "execution_count": 214,
     "metadata": {},
     "output_type": "execute_result"
    },
    {
     "data": {
      "image/png": "[encoded data removed]",
      "text/plain": [
       "<Figure size 432x288 with 1 Axes>"
      ]
     },
     "metadata": {
      "needs_background": "light"
     },
     "output_type": "display_data"
    }
   ],
   "source": [
    "sns.scatterplot(data=df,y=df[\"streams\"]/1000000000,x=\"valence\")\n",
    "plt.xlabel(\"Valence %\")\n",
    "plt.ylabel(\"Spotify Streams (in billions)\")\n",
    "plt.title(\"Spotify Streams (in billions) vs Valence %\")"
   ]
  },
  {
   "cell_type": "code",
   "execution_count": 215,
   "id": "82bd8799",
   "metadata": {},
   "outputs": [
    {
     "data": {
      "text/plain": [
       "-0.040743870875545436"
      ]
     },
     "execution_count": 215,
     "metadata": {},
     "output_type": "execute_result"
    }
   ],
   "source": [
    "df[\"streams\"].corr(df[\"valence\"])"
   ]
  },
  {
   "cell_type": "markdown",
   "id": "2ef123c0",
   "metadata": {},
   "source": [
    "Valence does not impact the streams"
   ]
  },
  {
   "cell_type": "code",
   "execution_count": 216,
   "id": "701b52d9",
   "metadata": {},
   "outputs": [
    {
     "data": {
      "text/plain": [
       "Text(0.5, 1.0, 'Spotify Playlists vs Valence %')"
      ]
     },
     "execution_count": 216,
     "metadata": {},
     "output_type": "execute_result"
    },
    {
     "data": {
      "image/png": "[encoded data removed]",
      "text/plain": [
       "<Figure size 432x288 with 1 Axes>"
      ]
     },
     "metadata": {
      "needs_background": "light"
     },
     "output_type": "display_data"
    }
   ],
   "source": [
    "sns.scatterplot(data=df,y=df[\"in_spotify_playlists\"],x=\"valence\")\n",
    "plt.xlabel(\"Valence %\")\n",
    "plt.ylabel(\"Spotify Playlists\")\n",
    "plt.title(\"Spotify Playlists vs Valence %\")"
   ]
  },
  {
   "cell_type": "markdown",
   "id": "d130b623",
   "metadata": {},
   "source": [
    "Positivity does not really impact the number of streams and number of playlists the track is in"
   ]
  },
  {
   "cell_type": "markdown",
   "id": "522190b5",
   "metadata": {},
   "source": [
    "#### Energy "
   ]
  },
  {
   "cell_type": "code",
   "execution_count": 217,
   "id": "7991efc2",
   "metadata": {},
   "outputs": [
    {
     "data": {
      "text/plain": [
       "<AxesSubplot:xlabel='energy', ylabel='Count'>"
      ]
     },
     "execution_count": 217,
     "metadata": {},
     "output_type": "execute_result"
    },
    {
     "data": {
      "image/png": "[encoded data removed]",
      "text/plain": [
       "<Figure size 432x288 with 1 Axes>"
      ]
     },
     "metadata": {
      "needs_background": "light"
     },
     "output_type": "display_data"
    }
   ],
   "source": [
    "sns.histplot(data=df,x=\"energy\",bins=50,kde=True)"
   ]
  },
  {
   "cell_type": "code",
   "execution_count": 218,
   "id": "14ebc731",
   "metadata": {},
   "outputs": [
    {
     "data": {
      "text/plain": [
       "Text(0.5, 1.0, 'Spotify Streams (in billions) vs Energy %')"
      ]
     },
     "execution_count": 218,
     "metadata": {},
     "output_type": "execute_result"
    },
    {
     "data": {
      "image/png": "[encoded data removed]",
      "text/plain": [
       "<Figure size 432x288 with 1 Axes>"
      ]
     },
     "metadata": {
      "needs_background": "light"
     },
     "output_type": "display_data"
    }
   ],
   "source": [
    "sns.scatterplot(data=df,y=df[\"streams\"]/1000000000,x=\"energy\")\n",
    "plt.xlabel(\"Energy %\")\n",
    "plt.ylabel(\"Spotify Streams(in billions)\")\n",
    "plt.title(\"Spotify Streams (in billions) vs Energy %\")"
   ]
  },
  {
   "cell_type": "markdown",
   "id": "9f677e0f",
   "metadata": {},
   "source": [
    "If you have more than 50% on energy levels then thers is a high chance of bigger number of streams"
   ]
  },
  {
   "cell_type": "markdown",
   "id": "4f39068c",
   "metadata": {},
   "source": [
    "#### Acousticness"
   ]
  },
  {
   "cell_type": "code",
   "execution_count": 219,
   "id": "4ec9b537",
   "metadata": {},
   "outputs": [
    {
     "data": {
      "text/plain": [
       "<AxesSubplot:xlabel='acousticness', ylabel='Count'>"
      ]
     },
     "execution_count": 219,
     "metadata": {},
     "output_type": "execute_result"
    },
    {
     "data": {
      "image/png": "[encoded data removed]",
      "text/plain": [
       "<Figure size 432x288 with 1 Axes>"
      ]
     },
     "metadata": {
      "needs_background": "light"
     },
     "output_type": "display_data"
    }
   ],
   "source": [
    "sns.histplot(data=df,x=\"acousticness\",bins=50,kde=True)"
   ]
  },
  {
   "cell_type": "code",
   "execution_count": 220,
   "id": "050cab38",
   "metadata": {},
   "outputs": [
    {
     "data": {
      "text/plain": [
       "Text(0.5, 1.0, 'Spotify Streams (in billions) vs acousticness %')"
      ]
     },
     "execution_count": 220,
     "metadata": {},
     "output_type": "execute_result"
    },
    {
     "data": {
      "image/png": "[encoded data removed]",
      "text/plain": [
       "<Figure size 432x288 with 1 Axes>"
      ]
     },
     "metadata": {
      "needs_background": "light"
     },
     "output_type": "display_data"
    }
   ],
   "source": [
    "sns.scatterplot(data=df,y=df[\"streams\"]/1000000000,x=\"acousticness\")\n",
    "plt.xlabel(\"acousticness %\")\n",
    "plt.ylabel(\"Spotify Streams (in billions)\")\n",
    "plt.title(\"Spotify Streams (in billions) vs acousticness %\")"
   ]
  },
  {
   "cell_type": "markdown",
   "id": "474151fb",
   "metadata": {},
   "source": [
    "Lesser the acousticness % higher the chance of spotify streams"
   ]
  },
  {
   "cell_type": "markdown",
   "id": "95e351b7",
   "metadata": {},
   "source": [
    "#### Instrumentalness"
   ]
  },
  {
   "cell_type": "code",
   "execution_count": 221,
   "id": "31ce2e5e",
   "metadata": {},
   "outputs": [
    {
     "data": {
      "text/plain": [
       "<AxesSubplot:xlabel='instrumentalness', ylabel='Count'>"
      ]
     },
     "execution_count": 221,
     "metadata": {},
     "output_type": "execute_result"
    },
    {
     "data": {
      "image/png": "[encoded data removed]",
      "text/plain": [
       "<Figure size 432x288 with 1 Axes>"
      ]
     },
     "metadata": {
      "needs_background": "light"
     },
     "output_type": "display_data"
    }
   ],
   "source": [
    "sns.histplot(data=df,x=\"instrumentalness\",bins=50,kde=True)"
   ]
  },
  {
   "cell_type": "code",
   "execution_count": 222,
   "id": "d92ae0e1",
   "metadata": {},
   "outputs": [
    {
     "data": {
      "text/plain": [
       "Text(0.5, 1.0, 'Spotify Streams (in billions) vs instrumentalness %')"
      ]
     },
     "execution_count": 222,
     "metadata": {},
     "output_type": "execute_result"
    },
    {
     "data": {
      "image/png": "[encoded data removed]",
      "text/plain": [
       "<Figure size 432x288 with 1 Axes>"
      ]
     },
     "metadata": {
      "needs_background": "light"
     },
     "output_type": "display_data"
    }
   ],
   "source": [
    "sns.scatterplot(data=df,y=df[\"streams\"]/1000000000,x=\"instrumentalness\")\n",
    "plt.xlabel(\"instrumentalness %\")\n",
    "plt.ylabel(\"Spotify Streams (in billions)\")\n",
    "plt.title(\"Spotify Streams (in billions) vs instrumentalness %\")"
   ]
  },
  {
   "cell_type": "markdown",
   "id": "6e5aca1d",
   "metadata": {},
   "source": [
    "#### Liveness"
   ]
  },
  {
   "cell_type": "code",
   "execution_count": 223,
   "id": "df4ef916",
   "metadata": {},
   "outputs": [
    {
     "data": {
      "text/plain": [
       "<AxesSubplot:xlabel='liveness', ylabel='Count'>"
      ]
     },
     "execution_count": 223,
     "metadata": {},
     "output_type": "execute_result"
    },
    {
     "data": {
      "image/png": "[encoded data removed]",
      "text/plain": [
       "<Figure size 432x288 with 1 Axes>"
      ]
     },
     "metadata": {
      "needs_background": "light"
     },
     "output_type": "display_data"
    }
   ],
   "source": [
    "sns.histplot(data=df,x=\"liveness\",bins=50,kde=True)"
   ]
  },
  {
   "cell_type": "code",
   "execution_count": 224,
   "id": "c530be1e",
   "metadata": {},
   "outputs": [
    {
     "data": {
      "text/plain": [
       "Text(0.5, 1.0, 'Spotify Streams (in billions) vs liveness %')"
      ]
     },
     "execution_count": 224,
     "metadata": {},
     "output_type": "execute_result"
    },
    {
     "data": {
      "image/png": "[encoded data removed]",
      "text/plain": [
       "<Figure size 432x288 with 1 Axes>"
      ]
     },
     "metadata": {
      "needs_background": "light"
     },
     "output_type": "display_data"
    }
   ],
   "source": [
    "sns.scatterplot(data=df,y=df[\"streams\"]/1000000000,x=\"liveness\")\n",
    "plt.xlabel(\"liveness %\")\n",
    "plt.ylabel(\"Spotify Streams (in billions)\")\n",
    "plt.title(\"Spotify Streams (in billions) vs liveness %\")"
   ]
  },
  {
   "cell_type": "markdown",
   "id": "7470e27e",
   "metadata": {},
   "source": [
    "Lower the liveness % higher the spotify streams"
   ]
  },
  {
   "cell_type": "markdown",
   "id": "1efd7561",
   "metadata": {},
   "source": [
    "#### Speechiness"
   ]
  },
  {
   "cell_type": "code",
   "execution_count": 225,
   "id": "6c1cbe59",
   "metadata": {},
   "outputs": [
    {
     "data": {
      "text/plain": [
       "<AxesSubplot:xlabel='speechiness', ylabel='Count'>"
      ]
     },
     "execution_count": 225,
     "metadata": {},
     "output_type": "execute_result"
    },
    {
     "data": {
      "image/png": "[encoded data removed]",
      "text/plain": [
       "<Figure size 432x288 with 1 Axes>"
      ]
     },
     "metadata": {
      "needs_background": "light"
     },
     "output_type": "display_data"
    }
   ],
   "source": [
    "sns.histplot(data=df,x=\"speechiness\",bins=50,kde=True)"
   ]
  },
  {
   "cell_type": "code",
   "execution_count": 226,
   "id": "be7c4951",
   "metadata": {},
   "outputs": [
    {
     "data": {
      "text/plain": [
       "Text(0.5, 1.0, 'Spotify Streams (in billions) vs speechiness %')"
      ]
     },
     "execution_count": 226,
     "metadata": {},
     "output_type": "execute_result"
    },
    {
     "data": {
      "image/png": "[encoded data removed]",
      "text/plain": [
       "<Figure size 432x288 with 1 Axes>"
      ]
     },
     "metadata": {
      "needs_background": "light"
     },
     "output_type": "display_data"
    }
   ],
   "source": [
    "sns.scatterplot(data=df,y=df[\"streams\"]/1000000000,x=\"speechiness\")\n",
    "plt.xlabel(\"speechiness %\")\n",
    "plt.ylabel(\"Spotify Streams (in billions)\")\n",
    "plt.title(\"Spotify Streams (in billions) vs speechiness %\")"
   ]
  },
  {
   "cell_type": "markdown",
   "id": "e1541b6b",
   "metadata": {},
   "source": [
    "Lower the speechness % higher the spotify streams"
   ]
  },
  {
   "cell_type": "code",
   "execution_count": 227,
   "id": "31bb5d9c",
   "metadata": {},
   "outputs": [
    {
     "data": {
      "text/plain": [
       "Index(['track_name', 'artist_name', 'artist_count', 'released_year',\n",
       "       'released_month', 'released_day', 'in_spotify_playlists',\n",
       "       'in_spotify_charts', 'streams', 'in_apple_playlists', 'in_apple_charts',\n",
       "       'in_deezer_playlists', 'in_deezer_charts', 'in_shazam_charts', 'bpm',\n",
       "       'key', 'mode', 'danceability', 'valence', 'energy', 'acousticness',\n",
       "       'instrumentalness', 'liveness', 'speechiness'],\n",
       "      dtype='object')"
      ]
     },
     "execution_count": 227,
     "metadata": {},
     "output_type": "execute_result"
    }
   ],
   "source": [
    "df.columns"
   ]
  },
  {
   "cell_type": "markdown",
   "id": "410dc3c5",
   "metadata": {},
   "source": [
    "Now final data frame will contain \"track_name\", \"artist_name\", \"in_spotify_playlists\", \"in_spotify_charts\", \"streams\", \"in_apple_playlists\",\"bpm\",\"danceability\",\"energy\""
   ]
  },
  {
   "cell_type": "code",
   "execution_count": 228,
   "id": "2995aec2",
   "metadata": {},
   "outputs": [
    {
     "data": {
      "text/html": [
       "<div>\n",
       "<style scoped>\n",
       "    .dataframe tbody tr th:only-of-type {\n",
       "        vertical-align: middle;\n",
       "    }\n",
       "\n",
       "    .dataframe tbody tr th {\n",
       "        vertical-align: top;\n",
       "    }\n",
       "\n",
       "    .dataframe thead th {\n",
       "        text-align: right;\n",
       "    }\n",
       "</style>\n",
       "<table border=\"1\" class=\"dataframe\">\n",
       "  <thead>\n",
       "    <tr style=\"text-align: right;\">\n",
       "      <th></th>\n",
       "      <th>track_name</th>\n",
       "      <th>artist_name</th>\n",
       "      <th>in_spotify_playlists</th>\n",
       "      <th>in_spotify_charts</th>\n",
       "      <th>streams</th>\n",
       "      <th>in_apple_playlists</th>\n",
       "      <th>bpm</th>\n",
       "      <th>danceability</th>\n",
       "      <th>energy</th>\n",
       "    </tr>\n",
       "  </thead>\n",
       "  <tbody>\n",
       "    <tr>\n",
       "      <th>0</th>\n",
       "      <td>Seven (feat. Latto) (Explicit Ver.)</td>\n",
       "      <td>Latto, Jung Kook</td>\n",
       "      <td>553</td>\n",
       "      <td>147</td>\n",
       "      <td>141381703</td>\n",
       "      <td>43</td>\n",
       "      <td>125</td>\n",
       "      <td>80</td>\n",
       "      <td>83</td>\n",
       "    </tr>\n",
       "    <tr>\n",
       "      <th>1</th>\n",
       "      <td>LALA</td>\n",
       "      <td>Myke Towers</td>\n",
       "      <td>1474</td>\n",
       "      <td>48</td>\n",
       "      <td>133716286</td>\n",
       "      <td>48</td>\n",
       "      <td>92</td>\n",
       "      <td>71</td>\n",
       "      <td>74</td>\n",
       "    </tr>\n",
       "    <tr>\n",
       "      <th>2</th>\n",
       "      <td>vampire</td>\n",
       "      <td>Olivia Rodrigo</td>\n",
       "      <td>1397</td>\n",
       "      <td>113</td>\n",
       "      <td>140003974</td>\n",
       "      <td>94</td>\n",
       "      <td>138</td>\n",
       "      <td>51</td>\n",
       "      <td>53</td>\n",
       "    </tr>\n",
       "    <tr>\n",
       "      <th>3</th>\n",
       "      <td>Cruel Summer</td>\n",
       "      <td>Taylor Swift</td>\n",
       "      <td>7858</td>\n",
       "      <td>100</td>\n",
       "      <td>800840817</td>\n",
       "      <td>116</td>\n",
       "      <td>170</td>\n",
       "      <td>55</td>\n",
       "      <td>72</td>\n",
       "    </tr>\n",
       "    <tr>\n",
       "      <th>4</th>\n",
       "      <td>WHERE SHE GOES</td>\n",
       "      <td>Bad Bunny</td>\n",
       "      <td>3133</td>\n",
       "      <td>50</td>\n",
       "      <td>303236322</td>\n",
       "      <td>84</td>\n",
       "      <td>144</td>\n",
       "      <td>65</td>\n",
       "      <td>80</td>\n",
       "    </tr>\n",
       "  </tbody>\n",
       "</table>\n",
       "</div>"
      ],
      "text/plain": [
       "                            track_name       artist_name  \\\n",
       "0  Seven (feat. Latto) (Explicit Ver.)  Latto, Jung Kook   \n",
       "1                                 LALA       Myke Towers   \n",
       "2                              vampire    Olivia Rodrigo   \n",
       "3                         Cruel Summer      Taylor Swift   \n",
       "4                       WHERE SHE GOES         Bad Bunny   \n",
       "\n",
       "   in_spotify_playlists  in_spotify_charts    streams  in_apple_playlists  \\\n",
       "0                   553                147  141381703                  43   \n",
       "1                  1474                 48  133716286                  48   \n",
       "2                  1397                113  140003974                  94   \n",
       "3                  7858                100  800840817                 116   \n",
       "4                  3133                 50  303236322                  84   \n",
       "\n",
       "   bpm  danceability  energy  \n",
       "0  125            80      83  \n",
       "1   92            71      74  \n",
       "2  138            51      53  \n",
       "3  170            55      72  \n",
       "4  144            65      80  "
      ]
     },
     "execution_count": 228,
     "metadata": {},
     "output_type": "execute_result"
    }
   ],
   "source": [
    "df_final = df[[\"track_name\", \"artist_name\", \"in_spotify_playlists\", \"in_spotify_charts\", \"streams\",\n",
    "             \"in_apple_playlists\",\"bpm\",\"danceability\",\"energy\"]]\n",
    "df_final.head()"
   ]
  },
  {
   "cell_type": "code",
   "execution_count": 229,
   "id": "23067b79",
   "metadata": {},
   "outputs": [
    {
     "data": {
      "text/plain": [
       "(949, 24)"
      ]
     },
     "execution_count": 229,
     "metadata": {},
     "output_type": "execute_result"
    }
   ],
   "source": [
    "df.shape"
   ]
  },
  {
   "cell_type": "markdown",
   "id": "2e0488bf",
   "metadata": {},
   "source": [
    "Some songs have artist count greater than 1. I seperated the artists to include the features as well "
   ]
  },
  {
   "cell_type": "code",
   "execution_count": 231,
   "id": "85dafa23",
   "metadata": {},
   "outputs": [
    {
     "data": {
      "text/html": [
       "<div>\n",
       "<style scoped>\n",
       "    .dataframe tbody tr th:only-of-type {\n",
       "        vertical-align: middle;\n",
       "    }\n",
       "\n",
       "    .dataframe tbody tr th {\n",
       "        vertical-align: top;\n",
       "    }\n",
       "\n",
       "    .dataframe thead th {\n",
       "        text-align: right;\n",
       "    }\n",
       "</style>\n",
       "<table border=\"1\" class=\"dataframe\">\n",
       "  <thead>\n",
       "    <tr style=\"text-align: right;\">\n",
       "      <th></th>\n",
       "      <th>track_name</th>\n",
       "      <th>artist_name</th>\n",
       "      <th>artist_count</th>\n",
       "      <th>released_year</th>\n",
       "      <th>released_month</th>\n",
       "      <th>released_day</th>\n",
       "      <th>in_spotify_playlists</th>\n",
       "      <th>in_spotify_charts</th>\n",
       "      <th>streams</th>\n",
       "      <th>in_apple_playlists</th>\n",
       "      <th>...</th>\n",
       "      <th>bpm</th>\n",
       "      <th>key</th>\n",
       "      <th>mode</th>\n",
       "      <th>danceability</th>\n",
       "      <th>valence</th>\n",
       "      <th>energy</th>\n",
       "      <th>acousticness</th>\n",
       "      <th>instrumentalness</th>\n",
       "      <th>liveness</th>\n",
       "      <th>speechiness</th>\n",
       "    </tr>\n",
       "  </thead>\n",
       "  <tbody>\n",
       "    <tr>\n",
       "      <th>0</th>\n",
       "      <td>Seven (feat. Latto) (Explicit Ver.)</td>\n",
       "      <td>Latto, Jung Kook</td>\n",
       "      <td>2</td>\n",
       "      <td>2023</td>\n",
       "      <td>7</td>\n",
       "      <td>14</td>\n",
       "      <td>553</td>\n",
       "      <td>147</td>\n",
       "      <td>141381703</td>\n",
       "      <td>43</td>\n",
       "      <td>...</td>\n",
       "      <td>125</td>\n",
       "      <td>B</td>\n",
       "      <td>Major</td>\n",
       "      <td>80</td>\n",
       "      <td>89</td>\n",
       "      <td>83</td>\n",
       "      <td>31</td>\n",
       "      <td>0</td>\n",
       "      <td>8</td>\n",
       "      <td>4</td>\n",
       "    </tr>\n",
       "    <tr>\n",
       "      <th>5</th>\n",
       "      <td>Sprinter</td>\n",
       "      <td>Dave, Central Cee</td>\n",
       "      <td>2</td>\n",
       "      <td>2023</td>\n",
       "      <td>6</td>\n",
       "      <td>1</td>\n",
       "      <td>2186</td>\n",
       "      <td>91</td>\n",
       "      <td>183706234</td>\n",
       "      <td>67</td>\n",
       "      <td>...</td>\n",
       "      <td>141</td>\n",
       "      <td>C#</td>\n",
       "      <td>Major</td>\n",
       "      <td>92</td>\n",
       "      <td>66</td>\n",
       "      <td>58</td>\n",
       "      <td>19</td>\n",
       "      <td>0</td>\n",
       "      <td>8</td>\n",
       "      <td>24</td>\n",
       "    </tr>\n",
       "    <tr>\n",
       "      <th>6</th>\n",
       "      <td>Ella Baila Sola</td>\n",
       "      <td>Eslabon Armado, Peso Pluma</td>\n",
       "      <td>2</td>\n",
       "      <td>2023</td>\n",
       "      <td>3</td>\n",
       "      <td>16</td>\n",
       "      <td>3090</td>\n",
       "      <td>50</td>\n",
       "      <td>725980112</td>\n",
       "      <td>34</td>\n",
       "      <td>...</td>\n",
       "      <td>148</td>\n",
       "      <td>F</td>\n",
       "      <td>Minor</td>\n",
       "      <td>67</td>\n",
       "      <td>83</td>\n",
       "      <td>76</td>\n",
       "      <td>48</td>\n",
       "      <td>0</td>\n",
       "      <td>8</td>\n",
       "      <td>3</td>\n",
       "    </tr>\n",
       "    <tr>\n",
       "      <th>9</th>\n",
       "      <td>La Bebe - Remix</td>\n",
       "      <td>Peso Pluma, Yng Lvcas</td>\n",
       "      <td>2</td>\n",
       "      <td>2023</td>\n",
       "      <td>3</td>\n",
       "      <td>17</td>\n",
       "      <td>2953</td>\n",
       "      <td>44</td>\n",
       "      <td>553634067</td>\n",
       "      <td>49</td>\n",
       "      <td>...</td>\n",
       "      <td>170</td>\n",
       "      <td>D</td>\n",
       "      <td>Minor</td>\n",
       "      <td>81</td>\n",
       "      <td>56</td>\n",
       "      <td>48</td>\n",
       "      <td>21</td>\n",
       "      <td>0</td>\n",
       "      <td>8</td>\n",
       "      <td>33</td>\n",
       "    </tr>\n",
       "    <tr>\n",
       "      <th>10</th>\n",
       "      <td>un x100to</td>\n",
       "      <td>Bad Bunny, Grupo Frontera</td>\n",
       "      <td>2</td>\n",
       "      <td>2023</td>\n",
       "      <td>4</td>\n",
       "      <td>17</td>\n",
       "      <td>2876</td>\n",
       "      <td>40</td>\n",
       "      <td>505671438</td>\n",
       "      <td>41</td>\n",
       "      <td>...</td>\n",
       "      <td>83</td>\n",
       "      <td>F#</td>\n",
       "      <td>Minor</td>\n",
       "      <td>57</td>\n",
       "      <td>56</td>\n",
       "      <td>72</td>\n",
       "      <td>23</td>\n",
       "      <td>0</td>\n",
       "      <td>27</td>\n",
       "      <td>5</td>\n",
       "    </tr>\n",
       "    <tr>\n",
       "      <th>...</th>\n",
       "      <td>...</td>\n",
       "      <td>...</td>\n",
       "      <td>...</td>\n",
       "      <td>...</td>\n",
       "      <td>...</td>\n",
       "      <td>...</td>\n",
       "      <td>...</td>\n",
       "      <td>...</td>\n",
       "      <td>...</td>\n",
       "      <td>...</td>\n",
       "      <td>...</td>\n",
       "      <td>...</td>\n",
       "      <td>...</td>\n",
       "      <td>...</td>\n",
       "      <td>...</td>\n",
       "      <td>...</td>\n",
       "      <td>...</td>\n",
       "      <td>...</td>\n",
       "      <td>...</td>\n",
       "      <td>...</td>\n",
       "      <td>...</td>\n",
       "    </tr>\n",
       "    <tr>\n",
       "      <th>942</th>\n",
       "      <td>Con La Brisa</td>\n",
       "      <td>Ludwig Goransson, Foudeqush</td>\n",
       "      <td>2</td>\n",
       "      <td>2022</td>\n",
       "      <td>11</td>\n",
       "      <td>4</td>\n",
       "      <td>486</td>\n",
       "      <td>0</td>\n",
       "      <td>71095708</td>\n",
       "      <td>8</td>\n",
       "      <td>...</td>\n",
       "      <td>114</td>\n",
       "      <td>D</td>\n",
       "      <td>Minor</td>\n",
       "      <td>62</td>\n",
       "      <td>25</td>\n",
       "      <td>44</td>\n",
       "      <td>51</td>\n",
       "      <td>33</td>\n",
       "      <td>14</td>\n",
       "      <td>3</td>\n",
       "    </tr>\n",
       "    <tr>\n",
       "      <th>943</th>\n",
       "      <td>Privileged Rappers</td>\n",
       "      <td>Drake, 21 Savage</td>\n",
       "      <td>2</td>\n",
       "      <td>2022</td>\n",
       "      <td>11</td>\n",
       "      <td>4</td>\n",
       "      <td>1007</td>\n",
       "      <td>0</td>\n",
       "      <td>112436403</td>\n",
       "      <td>6</td>\n",
       "      <td>...</td>\n",
       "      <td>144</td>\n",
       "      <td>F</td>\n",
       "      <td>Major</td>\n",
       "      <td>93</td>\n",
       "      <td>62</td>\n",
       "      <td>61</td>\n",
       "      <td>0</td>\n",
       "      <td>0</td>\n",
       "      <td>12</td>\n",
       "      <td>20</td>\n",
       "    </tr>\n",
       "    <tr>\n",
       "      <th>946</th>\n",
       "      <td>Broke Boys</td>\n",
       "      <td>Drake, 21 Savage</td>\n",
       "      <td>2</td>\n",
       "      <td>2022</td>\n",
       "      <td>11</td>\n",
       "      <td>4</td>\n",
       "      <td>1060</td>\n",
       "      <td>0</td>\n",
       "      <td>106249219</td>\n",
       "      <td>3</td>\n",
       "      <td>...</td>\n",
       "      <td>120</td>\n",
       "      <td>D</td>\n",
       "      <td>Major</td>\n",
       "      <td>64</td>\n",
       "      <td>11</td>\n",
       "      <td>53</td>\n",
       "      <td>1</td>\n",
       "      <td>0</td>\n",
       "      <td>25</td>\n",
       "      <td>27</td>\n",
       "    </tr>\n",
       "    <tr>\n",
       "      <th>950</th>\n",
       "      <td>A Veces (feat. Feid)</td>\n",
       "      <td>Feid, Paulo Londra</td>\n",
       "      <td>2</td>\n",
       "      <td>2022</td>\n",
       "      <td>11</td>\n",
       "      <td>3</td>\n",
       "      <td>573</td>\n",
       "      <td>0</td>\n",
       "      <td>73513683</td>\n",
       "      <td>2</td>\n",
       "      <td>...</td>\n",
       "      <td>92</td>\n",
       "      <td>C#</td>\n",
       "      <td>Major</td>\n",
       "      <td>80</td>\n",
       "      <td>81</td>\n",
       "      <td>67</td>\n",
       "      <td>4</td>\n",
       "      <td>0</td>\n",
       "      <td>8</td>\n",
       "      <td>6</td>\n",
       "    </tr>\n",
       "    <tr>\n",
       "      <th>951</th>\n",
       "      <td>En La De Ella</td>\n",
       "      <td>Feid, Sech, Jhayco</td>\n",
       "      <td>3</td>\n",
       "      <td>2022</td>\n",
       "      <td>10</td>\n",
       "      <td>20</td>\n",
       "      <td>1320</td>\n",
       "      <td>0</td>\n",
       "      <td>133895612</td>\n",
       "      <td>29</td>\n",
       "      <td>...</td>\n",
       "      <td>97</td>\n",
       "      <td>C#</td>\n",
       "      <td>Major</td>\n",
       "      <td>82</td>\n",
       "      <td>67</td>\n",
       "      <td>77</td>\n",
       "      <td>8</td>\n",
       "      <td>0</td>\n",
       "      <td>12</td>\n",
       "      <td>5</td>\n",
       "    </tr>\n",
       "  </tbody>\n",
       "</table>\n",
       "<p>366 rows × 24 columns</p>\n",
       "</div>"
      ],
      "text/plain": [
       "                              track_name                  artist_name  \\\n",
       "0    Seven (feat. Latto) (Explicit Ver.)             Latto, Jung Kook   \n",
       "5                               Sprinter            Dave, Central Cee   \n",
       "6                        Ella Baila Sola   Eslabon Armado, Peso Pluma   \n",
       "9                        La Bebe - Remix        Peso Pluma, Yng Lvcas   \n",
       "10                             un x100to    Bad Bunny, Grupo Frontera   \n",
       "..                                   ...                          ...   \n",
       "942                         Con La Brisa  Ludwig Goransson, Foudeqush   \n",
       "943                   Privileged Rappers             Drake, 21 Savage   \n",
       "946                           Broke Boys             Drake, 21 Savage   \n",
       "950                 A Veces (feat. Feid)           Feid, Paulo Londra   \n",
       "951                        En La De Ella           Feid, Sech, Jhayco   \n",
       "\n",
       "     artist_count  released_year  released_month  released_day  \\\n",
       "0               2           2023               7            14   \n",
       "5               2           2023               6             1   \n",
       "6               2           2023               3            16   \n",
       "9               2           2023               3            17   \n",
       "10              2           2023               4            17   \n",
       "..            ...            ...             ...           ...   \n",
       "942             2           2022              11             4   \n",
       "943             2           2022              11             4   \n",
       "946             2           2022              11             4   \n",
       "950             2           2022              11             3   \n",
       "951             3           2022              10            20   \n",
       "\n",
       "     in_spotify_playlists  in_spotify_charts    streams  in_apple_playlists  \\\n",
       "0                     553                147  141381703                  43   \n",
       "5                    2186                 91  183706234                  67   \n",
       "6                    3090                 50  725980112                  34   \n",
       "9                    2953                 44  553634067                  49   \n",
       "10                   2876                 40  505671438                  41   \n",
       "..                    ...                ...        ...                 ...   \n",
       "942                   486                  0   71095708                   8   \n",
       "943                  1007                  0  112436403                   6   \n",
       "946                  1060                  0  106249219                   3   \n",
       "950                   573                  0   73513683                   2   \n",
       "951                  1320                  0  133895612                  29   \n",
       "\n",
       "     ...  bpm key   mode danceability  valence energy acousticness  \\\n",
       "0    ...  125   B  Major           80       89     83           31   \n",
       "5    ...  141  C#  Major           92       66     58           19   \n",
       "6    ...  148   F  Minor           67       83     76           48   \n",
       "9    ...  170   D  Minor           81       56     48           21   \n",
       "10   ...   83  F#  Minor           57       56     72           23   \n",
       "..   ...  ...  ..    ...          ...      ...    ...          ...   \n",
       "942  ...  114   D  Minor           62       25     44           51   \n",
       "943  ...  144   F  Major           93       62     61            0   \n",
       "946  ...  120   D  Major           64       11     53            1   \n",
       "950  ...   92  C#  Major           80       81     67            4   \n",
       "951  ...   97  C#  Major           82       67     77            8   \n",
       "\n",
       "     instrumentalness  liveness  speechiness  \n",
       "0                   0         8            4  \n",
       "5                   0         8           24  \n",
       "6                   0         8            3  \n",
       "9                   0         8           33  \n",
       "10                  0        27            5  \n",
       "..                ...       ...          ...  \n",
       "942                33        14            3  \n",
       "943                 0        12           20  \n",
       "946                 0        25           27  \n",
       "950                 0         8            6  \n",
       "951                 0        12            5  \n",
       "\n",
       "[366 rows x 24 columns]"
      ]
     },
     "execution_count": 231,
     "metadata": {},
     "output_type": "execute_result"
    }
   ],
   "source": [
    "df[df[\"artist_count\"]!=1]"
   ]
  },
  {
   "cell_type": "code",
   "execution_count": 232,
   "id": "7c8c393b",
   "metadata": {
    "collapsed": true
   },
   "outputs": [
    {
     "name": "stderr",
     "output_type": "stream",
     "text": [
      "C:\\Users\\User\\anaconda3\\lib\\site-packages\\pandas\\core\\series.py:1056: SettingWithCopyWarning: \n",
      "A value is trying to be set on a copy of a slice from a DataFrame\n",
      "\n",
      "See the caveats in the documentation: https://pandas.pydata.org/pandas-docs/stable/user_guide/indexing.html#returning-a-view-versus-a-copy\n",
      "  cacher_needs_updating = self._check_is_chained_assignment_possible()\n"
     ]
    },
    {
     "ename": "KeyError",
     "evalue": "482",
     "output_type": "error",
     "traceback": [
      "\u001b[1;31m---------------------------------------------------------------------------\u001b[0m",
      "\u001b[1;31mKeyError\u001b[0m                                  Traceback (most recent call last)",
      "\u001b[1;32m~\\anaconda3\\lib\\site-packages\\pandas\\core\\indexes\\base.py\u001b[0m in \u001b[0;36mget_loc\u001b[1;34m(self, key, method, tolerance)\u001b[0m\n\u001b[0;32m   3360\u001b[0m             \u001b[1;32mtry\u001b[0m\u001b[1;33m:\u001b[0m\u001b[1;33m\u001b[0m\u001b[1;33m\u001b[0m\u001b[0m\n\u001b[1;32m-> 3361\u001b[1;33m                 \u001b[1;32mreturn\u001b[0m \u001b[0mself\u001b[0m\u001b[1;33m.\u001b[0m\u001b[0m_engine\u001b[0m\u001b[1;33m.\u001b[0m\u001b[0mget_loc\u001b[0m\u001b[1;33m(\u001b[0m\u001b[0mcasted_key\u001b[0m\u001b[1;33m)\u001b[0m\u001b[1;33m\u001b[0m\u001b[1;33m\u001b[0m\u001b[0m\n\u001b[0m\u001b[0;32m   3362\u001b[0m             \u001b[1;32mexcept\u001b[0m \u001b[0mKeyError\u001b[0m \u001b[1;32mas\u001b[0m \u001b[0merr\u001b[0m\u001b[1;33m:\u001b[0m\u001b[1;33m\u001b[0m\u001b[1;33m\u001b[0m\u001b[0m\n",
      "\u001b[1;32m~\\anaconda3\\lib\\site-packages\\pandas\\_libs\\index.pyx\u001b[0m in \u001b[0;36mpandas._libs.index.IndexEngine.get_loc\u001b[1;34m()\u001b[0m\n",
      "\u001b[1;32m~\\anaconda3\\lib\\site-packages\\pandas\\_libs\\index.pyx\u001b[0m in \u001b[0;36mpandas._libs.index.IndexEngine.get_loc\u001b[1;34m()\u001b[0m\n",
      "\u001b[1;32m~\\anaconda3\\lib\\site-packages\\pandas\\_libs\\index.pyx\u001b[0m in \u001b[0;36mpandas._libs.index.IndexEngine._get_loc_duplicates\u001b[1;34m()\u001b[0m\n",
      "\u001b[1;32mpandas\\_libs\\index_class_helper.pxi\u001b[0m in \u001b[0;36mpandas._libs.index.Int64Engine._maybe_get_bool_indexer\u001b[1;34m()\u001b[0m\n",
      "\u001b[1;32m~\\anaconda3\\lib\\site-packages\\pandas\\_libs\\index.pyx\u001b[0m in \u001b[0;36mpandas._libs.index.IndexEngine._unpack_bool_indexer\u001b[1;34m()\u001b[0m\n",
      "\u001b[1;31mKeyError\u001b[0m: 482",
      "\nThe above exception was the direct cause of the following exception:\n",
      "\u001b[1;31mKeyError\u001b[0m                                  Traceback (most recent call last)",
      "\u001b[1;32m~\\AppData\\Local\\Temp/ipykernel_22252/218903208.py\u001b[0m in \u001b[0;36m<module>\u001b[1;34m\u001b[0m\n\u001b[0;32m      1\u001b[0m \u001b[1;32mfor\u001b[0m \u001b[0mi\u001b[0m \u001b[1;32min\u001b[0m \u001b[0mrange\u001b[0m\u001b[1;33m(\u001b[0m\u001b[0mlen\u001b[0m\u001b[1;33m(\u001b[0m\u001b[0mdf\u001b[0m\u001b[1;33m)\u001b[0m\u001b[1;33m)\u001b[0m\u001b[1;33m:\u001b[0m\u001b[1;33m\u001b[0m\u001b[1;33m\u001b[0m\u001b[0m\n\u001b[1;32m----> 2\u001b[1;33m     \u001b[1;32mif\u001b[0m\u001b[1;33m(\u001b[0m\u001b[0mdf\u001b[0m\u001b[1;33m.\u001b[0m\u001b[0mloc\u001b[0m\u001b[1;33m[\u001b[0m\u001b[0mi\u001b[0m\u001b[1;33m,\u001b[0m\u001b[1;34m\"artist_count\"\u001b[0m\u001b[1;33m]\u001b[0m \u001b[1;33m!=\u001b[0m \u001b[1;36m1\u001b[0m\u001b[1;33m)\u001b[0m\u001b[1;33m:\u001b[0m\u001b[1;33m\u001b[0m\u001b[1;33m\u001b[0m\u001b[0m\n\u001b[0m\u001b[0;32m      3\u001b[0m         \u001b[0mrow\u001b[0m \u001b[1;33m=\u001b[0m \u001b[0mdf\u001b[0m\u001b[1;33m.\u001b[0m\u001b[0mloc\u001b[0m\u001b[1;33m[\u001b[0m\u001b[0mi\u001b[0m\u001b[1;33m]\u001b[0m\u001b[1;33m\u001b[0m\u001b[1;33m\u001b[0m\u001b[0m\n\u001b[0;32m      4\u001b[0m         \u001b[0mnames\u001b[0m \u001b[1;33m=\u001b[0m \u001b[0mrow\u001b[0m\u001b[1;33m.\u001b[0m\u001b[0martist_name\u001b[0m\u001b[1;33m.\u001b[0m\u001b[0msplit\u001b[0m\u001b[1;33m(\u001b[0m\u001b[1;34m\", \"\u001b[0m\u001b[1;33m)\u001b[0m\u001b[1;33m\u001b[0m\u001b[1;33m\u001b[0m\u001b[0m\n\u001b[0;32m      5\u001b[0m         \u001b[1;32mfor\u001b[0m \u001b[0mname\u001b[0m \u001b[1;32min\u001b[0m \u001b[0mnames\u001b[0m\u001b[1;33m:\u001b[0m\u001b[1;33m\u001b[0m\u001b[1;33m\u001b[0m\u001b[0m\n",
      "\u001b[1;32m~\\anaconda3\\lib\\site-packages\\pandas\\core\\indexing.py\u001b[0m in \u001b[0;36m__getitem__\u001b[1;34m(self, key)\u001b[0m\n\u001b[0;32m    923\u001b[0m                 \u001b[1;32mwith\u001b[0m \u001b[0msuppress\u001b[0m\u001b[1;33m(\u001b[0m\u001b[0mKeyError\u001b[0m\u001b[1;33m,\u001b[0m \u001b[0mIndexError\u001b[0m\u001b[1;33m)\u001b[0m\u001b[1;33m:\u001b[0m\u001b[1;33m\u001b[0m\u001b[1;33m\u001b[0m\u001b[0m\n\u001b[0;32m    924\u001b[0m                     \u001b[1;32mreturn\u001b[0m \u001b[0mself\u001b[0m\u001b[1;33m.\u001b[0m\u001b[0mobj\u001b[0m\u001b[1;33m.\u001b[0m\u001b[0m_get_value\u001b[0m\u001b[1;33m(\u001b[0m\u001b[1;33m*\u001b[0m\u001b[0mkey\u001b[0m\u001b[1;33m,\u001b[0m \u001b[0mtakeable\u001b[0m\u001b[1;33m=\u001b[0m\u001b[0mself\u001b[0m\u001b[1;33m.\u001b[0m\u001b[0m_takeable\u001b[0m\u001b[1;33m)\u001b[0m\u001b[1;33m\u001b[0m\u001b[1;33m\u001b[0m\u001b[0m\n\u001b[1;32m--> 925\u001b[1;33m             \u001b[1;32mreturn\u001b[0m \u001b[0mself\u001b[0m\u001b[1;33m.\u001b[0m\u001b[0m_getitem_tuple\u001b[0m\u001b[1;33m(\u001b[0m\u001b[0mkey\u001b[0m\u001b[1;33m)\u001b[0m\u001b[1;33m\u001b[0m\u001b[1;33m\u001b[0m\u001b[0m\n\u001b[0m\u001b[0;32m    926\u001b[0m         \u001b[1;32melse\u001b[0m\u001b[1;33m:\u001b[0m\u001b[1;33m\u001b[0m\u001b[1;33m\u001b[0m\u001b[0m\n\u001b[0;32m    927\u001b[0m             \u001b[1;31m# we by definition only have the 0th axis\u001b[0m\u001b[1;33m\u001b[0m\u001b[1;33m\u001b[0m\u001b[0m\n",
      "\u001b[1;32m~\\anaconda3\\lib\\site-packages\\pandas\\core\\indexing.py\u001b[0m in \u001b[0;36m_getitem_tuple\u001b[1;34m(self, tup)\u001b[0m\n\u001b[0;32m   1098\u001b[0m     \u001b[1;32mdef\u001b[0m \u001b[0m_getitem_tuple\u001b[0m\u001b[1;33m(\u001b[0m\u001b[0mself\u001b[0m\u001b[1;33m,\u001b[0m \u001b[0mtup\u001b[0m\u001b[1;33m:\u001b[0m \u001b[0mtuple\u001b[0m\u001b[1;33m)\u001b[0m\u001b[1;33m:\u001b[0m\u001b[1;33m\u001b[0m\u001b[1;33m\u001b[0m\u001b[0m\n\u001b[0;32m   1099\u001b[0m         \u001b[1;32mwith\u001b[0m \u001b[0msuppress\u001b[0m\u001b[1;33m(\u001b[0m\u001b[0mIndexingError\u001b[0m\u001b[1;33m)\u001b[0m\u001b[1;33m:\u001b[0m\u001b[1;33m\u001b[0m\u001b[1;33m\u001b[0m\u001b[0m\n\u001b[1;32m-> 1100\u001b[1;33m             \u001b[1;32mreturn\u001b[0m \u001b[0mself\u001b[0m\u001b[1;33m.\u001b[0m\u001b[0m_getitem_lowerdim\u001b[0m\u001b[1;33m(\u001b[0m\u001b[0mtup\u001b[0m\u001b[1;33m)\u001b[0m\u001b[1;33m\u001b[0m\u001b[1;33m\u001b[0m\u001b[0m\n\u001b[0m\u001b[0;32m   1101\u001b[0m \u001b[1;33m\u001b[0m\u001b[0m\n\u001b[0;32m   1102\u001b[0m         \u001b[1;31m# no multi-index, so validate all of the indexers\u001b[0m\u001b[1;33m\u001b[0m\u001b[1;33m\u001b[0m\u001b[0m\n",
      "\u001b[1;32m~\\anaconda3\\lib\\site-packages\\pandas\\core\\indexing.py\u001b[0m in \u001b[0;36m_getitem_lowerdim\u001b[1;34m(self, tup)\u001b[0m\n\u001b[0;32m    836\u001b[0m                 \u001b[1;31m# We don't need to check for tuples here because those are\u001b[0m\u001b[1;33m\u001b[0m\u001b[1;33m\u001b[0m\u001b[0m\n\u001b[0;32m    837\u001b[0m                 \u001b[1;31m#  caught by the _is_nested_tuple_indexer check above.\u001b[0m\u001b[1;33m\u001b[0m\u001b[1;33m\u001b[0m\u001b[0m\n\u001b[1;32m--> 838\u001b[1;33m                 \u001b[0msection\u001b[0m \u001b[1;33m=\u001b[0m \u001b[0mself\u001b[0m\u001b[1;33m.\u001b[0m\u001b[0m_getitem_axis\u001b[0m\u001b[1;33m(\u001b[0m\u001b[0mkey\u001b[0m\u001b[1;33m,\u001b[0m \u001b[0maxis\u001b[0m\u001b[1;33m=\u001b[0m\u001b[0mi\u001b[0m\u001b[1;33m)\u001b[0m\u001b[1;33m\u001b[0m\u001b[1;33m\u001b[0m\u001b[0m\n\u001b[0m\u001b[0;32m    839\u001b[0m \u001b[1;33m\u001b[0m\u001b[0m\n\u001b[0;32m    840\u001b[0m                 \u001b[1;31m# We should never have a scalar section here, because\u001b[0m\u001b[1;33m\u001b[0m\u001b[1;33m\u001b[0m\u001b[0m\n",
      "\u001b[1;32m~\\anaconda3\\lib\\site-packages\\pandas\\core\\indexing.py\u001b[0m in \u001b[0;36m_getitem_axis\u001b[1;34m(self, key, axis)\u001b[0m\n\u001b[0;32m   1162\u001b[0m         \u001b[1;31m# fall thru to straight lookup\u001b[0m\u001b[1;33m\u001b[0m\u001b[1;33m\u001b[0m\u001b[0m\n\u001b[0;32m   1163\u001b[0m         \u001b[0mself\u001b[0m\u001b[1;33m.\u001b[0m\u001b[0m_validate_key\u001b[0m\u001b[1;33m(\u001b[0m\u001b[0mkey\u001b[0m\u001b[1;33m,\u001b[0m \u001b[0maxis\u001b[0m\u001b[1;33m)\u001b[0m\u001b[1;33m\u001b[0m\u001b[1;33m\u001b[0m\u001b[0m\n\u001b[1;32m-> 1164\u001b[1;33m         \u001b[1;32mreturn\u001b[0m \u001b[0mself\u001b[0m\u001b[1;33m.\u001b[0m\u001b[0m_get_label\u001b[0m\u001b[1;33m(\u001b[0m\u001b[0mkey\u001b[0m\u001b[1;33m,\u001b[0m \u001b[0maxis\u001b[0m\u001b[1;33m=\u001b[0m\u001b[0maxis\u001b[0m\u001b[1;33m)\u001b[0m\u001b[1;33m\u001b[0m\u001b[1;33m\u001b[0m\u001b[0m\n\u001b[0m\u001b[0;32m   1165\u001b[0m \u001b[1;33m\u001b[0m\u001b[0m\n\u001b[0;32m   1166\u001b[0m     \u001b[1;32mdef\u001b[0m \u001b[0m_get_slice_axis\u001b[0m\u001b[1;33m(\u001b[0m\u001b[0mself\u001b[0m\u001b[1;33m,\u001b[0m \u001b[0mslice_obj\u001b[0m\u001b[1;33m:\u001b[0m \u001b[0mslice\u001b[0m\u001b[1;33m,\u001b[0m \u001b[0maxis\u001b[0m\u001b[1;33m:\u001b[0m \u001b[0mint\u001b[0m\u001b[1;33m)\u001b[0m\u001b[1;33m:\u001b[0m\u001b[1;33m\u001b[0m\u001b[1;33m\u001b[0m\u001b[0m\n",
      "\u001b[1;32m~\\anaconda3\\lib\\site-packages\\pandas\\core\\indexing.py\u001b[0m in \u001b[0;36m_get_label\u001b[1;34m(self, label, axis)\u001b[0m\n\u001b[0;32m   1111\u001b[0m     \u001b[1;32mdef\u001b[0m \u001b[0m_get_label\u001b[0m\u001b[1;33m(\u001b[0m\u001b[0mself\u001b[0m\u001b[1;33m,\u001b[0m \u001b[0mlabel\u001b[0m\u001b[1;33m,\u001b[0m \u001b[0maxis\u001b[0m\u001b[1;33m:\u001b[0m \u001b[0mint\u001b[0m\u001b[1;33m)\u001b[0m\u001b[1;33m:\u001b[0m\u001b[1;33m\u001b[0m\u001b[1;33m\u001b[0m\u001b[0m\n\u001b[0;32m   1112\u001b[0m         \u001b[1;31m# GH#5667 this will fail if the label is not present in the axis.\u001b[0m\u001b[1;33m\u001b[0m\u001b[1;33m\u001b[0m\u001b[0m\n\u001b[1;32m-> 1113\u001b[1;33m         \u001b[1;32mreturn\u001b[0m \u001b[0mself\u001b[0m\u001b[1;33m.\u001b[0m\u001b[0mobj\u001b[0m\u001b[1;33m.\u001b[0m\u001b[0mxs\u001b[0m\u001b[1;33m(\u001b[0m\u001b[0mlabel\u001b[0m\u001b[1;33m,\u001b[0m \u001b[0maxis\u001b[0m\u001b[1;33m=\u001b[0m\u001b[0maxis\u001b[0m\u001b[1;33m)\u001b[0m\u001b[1;33m\u001b[0m\u001b[1;33m\u001b[0m\u001b[0m\n\u001b[0m\u001b[0;32m   1114\u001b[0m \u001b[1;33m\u001b[0m\u001b[0m\n\u001b[0;32m   1115\u001b[0m     \u001b[1;32mdef\u001b[0m \u001b[0m_handle_lowerdim_multi_index_axis0\u001b[0m\u001b[1;33m(\u001b[0m\u001b[0mself\u001b[0m\u001b[1;33m,\u001b[0m \u001b[0mtup\u001b[0m\u001b[1;33m:\u001b[0m \u001b[0mtuple\u001b[0m\u001b[1;33m)\u001b[0m\u001b[1;33m:\u001b[0m\u001b[1;33m\u001b[0m\u001b[1;33m\u001b[0m\u001b[0m\n",
      "\u001b[1;32m~\\anaconda3\\lib\\site-packages\\pandas\\core\\generic.py\u001b[0m in \u001b[0;36mxs\u001b[1;34m(self, key, axis, level, drop_level)\u001b[0m\n\u001b[0;32m   3774\u001b[0m                 \u001b[1;32mraise\u001b[0m \u001b[0mTypeError\u001b[0m\u001b[1;33m(\u001b[0m\u001b[1;34mf\"Expected label or tuple of labels, got {key}\"\u001b[0m\u001b[1;33m)\u001b[0m \u001b[1;32mfrom\u001b[0m \u001b[0me\u001b[0m\u001b[1;33m\u001b[0m\u001b[1;33m\u001b[0m\u001b[0m\n\u001b[0;32m   3775\u001b[0m         \u001b[1;32melse\u001b[0m\u001b[1;33m:\u001b[0m\u001b[1;33m\u001b[0m\u001b[1;33m\u001b[0m\u001b[0m\n\u001b[1;32m-> 3776\u001b[1;33m             \u001b[0mloc\u001b[0m \u001b[1;33m=\u001b[0m \u001b[0mindex\u001b[0m\u001b[1;33m.\u001b[0m\u001b[0mget_loc\u001b[0m\u001b[1;33m(\u001b[0m\u001b[0mkey\u001b[0m\u001b[1;33m)\u001b[0m\u001b[1;33m\u001b[0m\u001b[1;33m\u001b[0m\u001b[0m\n\u001b[0m\u001b[0;32m   3777\u001b[0m \u001b[1;33m\u001b[0m\u001b[0m\n\u001b[0;32m   3778\u001b[0m             \u001b[1;32mif\u001b[0m \u001b[0misinstance\u001b[0m\u001b[1;33m(\u001b[0m\u001b[0mloc\u001b[0m\u001b[1;33m,\u001b[0m \u001b[0mnp\u001b[0m\u001b[1;33m.\u001b[0m\u001b[0mndarray\u001b[0m\u001b[1;33m)\u001b[0m\u001b[1;33m:\u001b[0m\u001b[1;33m\u001b[0m\u001b[1;33m\u001b[0m\u001b[0m\n",
      "\u001b[1;32m~\\anaconda3\\lib\\site-packages\\pandas\\core\\indexes\\base.py\u001b[0m in \u001b[0;36mget_loc\u001b[1;34m(self, key, method, tolerance)\u001b[0m\n\u001b[0;32m   3361\u001b[0m                 \u001b[1;32mreturn\u001b[0m \u001b[0mself\u001b[0m\u001b[1;33m.\u001b[0m\u001b[0m_engine\u001b[0m\u001b[1;33m.\u001b[0m\u001b[0mget_loc\u001b[0m\u001b[1;33m(\u001b[0m\u001b[0mcasted_key\u001b[0m\u001b[1;33m)\u001b[0m\u001b[1;33m\u001b[0m\u001b[1;33m\u001b[0m\u001b[0m\n\u001b[0;32m   3362\u001b[0m             \u001b[1;32mexcept\u001b[0m \u001b[0mKeyError\u001b[0m \u001b[1;32mas\u001b[0m \u001b[0merr\u001b[0m\u001b[1;33m:\u001b[0m\u001b[1;33m\u001b[0m\u001b[1;33m\u001b[0m\u001b[0m\n\u001b[1;32m-> 3363\u001b[1;33m                 \u001b[1;32mraise\u001b[0m \u001b[0mKeyError\u001b[0m\u001b[1;33m(\u001b[0m\u001b[0mkey\u001b[0m\u001b[1;33m)\u001b[0m \u001b[1;32mfrom\u001b[0m \u001b[0merr\u001b[0m\u001b[1;33m\u001b[0m\u001b[1;33m\u001b[0m\u001b[0m\n\u001b[0m\u001b[0;32m   3364\u001b[0m \u001b[1;33m\u001b[0m\u001b[0m\n\u001b[0;32m   3365\u001b[0m         \u001b[1;32mif\u001b[0m \u001b[0mis_scalar\u001b[0m\u001b[1;33m(\u001b[0m\u001b[0mkey\u001b[0m\u001b[1;33m)\u001b[0m \u001b[1;32mand\u001b[0m \u001b[0misna\u001b[0m\u001b[1;33m(\u001b[0m\u001b[0mkey\u001b[0m\u001b[1;33m)\u001b[0m \u001b[1;32mand\u001b[0m \u001b[1;32mnot\u001b[0m \u001b[0mself\u001b[0m\u001b[1;33m.\u001b[0m\u001b[0mhasnans\u001b[0m\u001b[1;33m:\u001b[0m\u001b[1;33m\u001b[0m\u001b[1;33m\u001b[0m\u001b[0m\n",
      "\u001b[1;31mKeyError\u001b[0m: 482"
     ]
    }
   ],
   "source": [
    "for i in range(len(df)):\n",
    "    if(df.loc[i,\"artist_count\"] != 1):\n",
    "        row = df.loc[i]\n",
    "        names = row.artist_name.split(\", \")\n",
    "        for name in names:\n",
    "            row.artist_name = name\n",
    "            row.artist_count = 1\n",
    "            df = pd.concat([df,row.to_frame().T])\n",
    "    else:\n",
    "        pass"
   ]
  },
  {
   "cell_type": "code",
   "execution_count": 233,
   "id": "d15c66e1",
   "metadata": {},
   "outputs": [
    {
     "data": {
      "text/plain": [
       "(1401, 24)"
      ]
     },
     "execution_count": 233,
     "metadata": {},
     "output_type": "execute_result"
    }
   ],
   "source": [
    "df.shape"
   ]
  },
  {
   "cell_type": "code",
   "execution_count": 234,
   "id": "caff9425",
   "metadata": {
    "scrolled": true
   },
   "outputs": [
    {
     "data": {
      "text/plain": [
       "Taylor Swift      37\n",
       "The Weeknd        35\n",
       "Bad Bunny         29\n",
       "SZA               25\n",
       "Feid              20\n",
       "Harry Styles      17\n",
       "Peso Pluma        17\n",
       "Kendrick Lamar    16\n",
       "Morgan Wallen     14\n",
       "Metro Boomin      14\n",
       "Name: artist_name, dtype: int64"
      ]
     },
     "execution_count": 234,
     "metadata": {},
     "output_type": "execute_result"
    }
   ],
   "source": [
    "df1 = df[\"artist_name\"].value_counts().head(10)\n",
    "df1.columns = [\"artist_name\",\"count\"]\n",
    "df1"
   ]
  },
  {
   "cell_type": "markdown",
   "id": "66cd39f7",
   "metadata": {},
   "source": [
    "#### Top 10 singers"
   ]
  },
  {
   "cell_type": "code",
   "execution_count": 239,
   "id": "be6e3a14",
   "metadata": {},
   "outputs": [],
   "source": [
    "singers = [\"Taylor Swift\",\"The Weeknd\",\"Bad Bunny\",\"SZA\",\"Feid\",\n",
    "           \"Harry Styles\",\"Peso Pluma\",\"Kendrick Lamar\",\"Morgan Wallen\",\"Metro Boomin\"]"
   ]
  },
  {
   "cell_type": "code",
   "execution_count": 244,
   "id": "40d05358",
   "metadata": {},
   "outputs": [
    {
     "data": {
      "text/html": [
       "<div>\n",
       "<style scoped>\n",
       "    .dataframe tbody tr th:only-of-type {\n",
       "        vertical-align: middle;\n",
       "    }\n",
       "\n",
       "    .dataframe tbody tr th {\n",
       "        vertical-align: top;\n",
       "    }\n",
       "\n",
       "    .dataframe thead th {\n",
       "        text-align: right;\n",
       "    }\n",
       "</style>\n",
       "<table border=\"1\" class=\"dataframe\">\n",
       "  <thead>\n",
       "    <tr style=\"text-align: right;\">\n",
       "      <th></th>\n",
       "      <th>track_name</th>\n",
       "      <th>artist_name</th>\n",
       "      <th>in_spotify_playlists</th>\n",
       "      <th>in_spotify_charts</th>\n",
       "      <th>streams</th>\n",
       "      <th>in_apple_playlists</th>\n",
       "      <th>bpm</th>\n",
       "      <th>danceability</th>\n",
       "      <th>energy</th>\n",
       "    </tr>\n",
       "  </thead>\n",
       "  <tbody>\n",
       "    <tr>\n",
       "      <th>3</th>\n",
       "      <td>Cruel Summer</td>\n",
       "      <td>Taylor Swift</td>\n",
       "      <td>7858</td>\n",
       "      <td>100</td>\n",
       "      <td>800840817</td>\n",
       "      <td>116</td>\n",
       "      <td>170</td>\n",
       "      <td>55</td>\n",
       "      <td>72</td>\n",
       "    </tr>\n",
       "    <tr>\n",
       "      <th>4</th>\n",
       "      <td>WHERE SHE GOES</td>\n",
       "      <td>Bad Bunny</td>\n",
       "      <td>3133</td>\n",
       "      <td>50</td>\n",
       "      <td>303236322</td>\n",
       "      <td>84</td>\n",
       "      <td>144</td>\n",
       "      <td>65</td>\n",
       "      <td>80</td>\n",
       "    </tr>\n",
       "    <tr>\n",
       "      <th>9</th>\n",
       "      <td>La Bebe - Remix</td>\n",
       "      <td>Peso Pluma</td>\n",
       "      <td>2953</td>\n",
       "      <td>44</td>\n",
       "      <td>553634067</td>\n",
       "      <td>49</td>\n",
       "      <td>170</td>\n",
       "      <td>81</td>\n",
       "      <td>48</td>\n",
       "    </tr>\n",
       "    <tr>\n",
       "      <th>10</th>\n",
       "      <td>un x100to</td>\n",
       "      <td>Bad Bunny</td>\n",
       "      <td>2876</td>\n",
       "      <td>40</td>\n",
       "      <td>505671438</td>\n",
       "      <td>41</td>\n",
       "      <td>83</td>\n",
       "      <td>57</td>\n",
       "      <td>72</td>\n",
       "    </tr>\n",
       "    <tr>\n",
       "      <th>14</th>\n",
       "      <td>As It Was</td>\n",
       "      <td>Harry Styles</td>\n",
       "      <td>23575</td>\n",
       "      <td>130</td>\n",
       "      <td>2513188493</td>\n",
       "      <td>403</td>\n",
       "      <td>174</td>\n",
       "      <td>52</td>\n",
       "      <td>73</td>\n",
       "    </tr>\n",
       "  </tbody>\n",
       "</table>\n",
       "</div>"
      ],
      "text/plain": [
       "         track_name   artist_name in_spotify_playlists in_spotify_charts  \\\n",
       "3      Cruel Summer  Taylor Swift                 7858               100   \n",
       "4    WHERE SHE GOES     Bad Bunny                 3133                50   \n",
       "9   La Bebe - Remix    Peso Pluma                 2953                44   \n",
       "10        un x100to     Bad Bunny                 2876                40   \n",
       "14        As It Was  Harry Styles                23575               130   \n",
       "\n",
       "       streams in_apple_playlists  bpm danceability energy  \n",
       "3    800840817                116  170           55     72  \n",
       "4    303236322                 84  144           65     80  \n",
       "9    553634067                 49  170           81     48  \n",
       "10   505671438                 41   83           57     72  \n",
       "14  2513188493                403  174           52     73  "
      ]
     },
     "execution_count": 244,
     "metadata": {},
     "output_type": "execute_result"
    }
   ],
   "source": [
    "df_final = df[[\"track_name\", \"artist_name\", \"in_spotify_playlists\", \"in_spotify_charts\", \"streams\",\n",
    "             \"in_apple_playlists\",\"bpm\",\"danceability\",\"energy\"]]\n",
    "filters = df_final[\"artist_name\"].isin(singers)\n",
    "df_final = df_final[filters]\n",
    "df_final.head()"
   ]
  },
  {
   "cell_type": "code",
   "execution_count": 237,
   "id": "841080f3",
   "metadata": {},
   "outputs": [],
   "source": [
    "df_final.to_csv('spotify-2023-final.csv') "
   ]
  }
 ],
 "metadata": {
  "kernelspec": {
   "display_name": "Python 3 (ipykernel)",
   "language": "python",
   "name": "python3"
  },
  "language_info": {
   "codemirror_mode": {
    "name": "ipython",
    "version": 3
   },
   "file_extension": ".py",
   "mimetype": "text/x-python",
   "name": "python",
   "nbconvert_exporter": "python",
   "pygments_lexer": "ipython3",
   "version": "3.9.7"
  }
 },
 "nbformat": 4,
 "nbformat_minor": 5
}
